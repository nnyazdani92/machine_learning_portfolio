{
 "cells": [
  {
   "cell_type": "code",
   "execution_count": 724,
   "metadata": {
    "_cell_guid": "b1076dfc-b9ad-4769-8c92-a6c4dae69d19",
    "_uuid": "8f2839f25d086af736a60e9eeb907d3b93b6e0e5",
    "execution": {
     "iopub.execute_input": "2025-02-01T23:25:48.534770Z",
     "iopub.status.busy": "2025-02-01T23:25:48.534432Z",
     "iopub.status.idle": "2025-02-01T23:25:48.539274Z",
     "shell.execute_reply": "2025-02-01T23:25:48.538433Z",
     "shell.execute_reply.started": "2025-02-01T23:25:48.534733Z"
    },
    "trusted": true
   },
   "outputs": [],
   "source": [
    "import os\n",
    "\n",
    "import numpy as np # linear algebra\n",
    "import pandas as pd # data processing, CSV file I/O (e.g. pd.read_csv)\n",
    "\n",
    "import swifter"
   ]
  },
  {
   "cell_type": "code",
   "execution_count": 725,
   "metadata": {
    "execution": {
     "iopub.execute_input": "2025-02-01T23:25:48.541045Z",
     "iopub.status.busy": "2025-02-01T23:25:48.540820Z",
     "iopub.status.idle": "2025-02-01T23:25:48.556321Z",
     "shell.execute_reply": "2025-02-01T23:25:48.555561Z",
     "shell.execute_reply.started": "2025-02-01T23:25:48.541026Z"
    },
    "trusted": true
   },
   "outputs": [],
   "source": [
    "ROOT = '/kaggle/input/natural-diamonds-prices-images'"
   ]
  },
  {
   "cell_type": "code",
   "execution_count": 726,
   "metadata": {
    "execution": {
     "iopub.execute_input": "2025-02-01T23:25:48.557706Z",
     "iopub.status.busy": "2025-02-01T23:25:48.557482Z",
     "iopub.status.idle": "2025-02-01T23:25:48.579544Z",
     "shell.execute_reply": "2025-02-01T23:25:48.578631Z",
     "shell.execute_reply.started": "2025-02-01T23:25:48.557675Z"
    },
    "trusted": true
   },
   "outputs": [],
   "source": [
    "# Initialize an empty list to store DataFrames\n",
    "dfs = []\n",
    "\n",
    "# Function to read and append CSV files from a given directory\n",
    "def read_and_append_csvs(directory):\n",
    "    for root, dirs, files in os.walk(directory):\n",
    "        for file in files:\n",
    "            if file.endswith('.csv'):\n",
    "                file_path = os.path.join(root, file)\n",
    "                df = pd.read_csv(file_path)\n",
    "                dfs.append(df)"
   ]
  },
  {
   "cell_type": "code",
   "execution_count": 727,
   "metadata": {
    "execution": {
     "iopub.execute_input": "2025-02-01T23:25:48.580773Z",
     "iopub.status.busy": "2025-02-01T23:25:48.580496Z",
     "iopub.status.idle": "2025-02-01T23:25:52.728459Z",
     "shell.execute_reply": "2025-02-01T23:25:52.727538Z",
     "shell.execute_reply.started": "2025-02-01T23:25:48.580753Z"
    },
    "trusted": true
   },
   "outputs": [],
   "source": [
    "# Read CSV files from both 'Diamonds' and 'Diamonds2' directories\n",
    "read_and_append_csvs(os.path.join(ROOT, 'Diamonds'))\n",
    "read_and_append_csvs(os.path.join(ROOT, 'Diamonds2'))\n",
    "\n",
    "# Concatenate all DataFrames\n",
    "df = pd.concat(dfs, ignore_index=True)"
   ]
  },
  {
   "cell_type": "code",
   "execution_count": 728,
   "metadata": {
    "execution": {
     "iopub.execute_input": "2025-02-01T23:25:52.729608Z",
     "iopub.status.busy": "2025-02-01T23:25:52.729356Z",
     "iopub.status.idle": "2025-02-01T23:25:52.739679Z",
     "shell.execute_reply": "2025-02-01T23:25:52.738802Z",
     "shell.execute_reply.started": "2025-02-01T23:25:52.729587Z"
    },
    "trusted": true
   },
   "outputs": [],
   "source": [
    "# Clean price and parse as float\n",
    "df['Price'] = df['Price'].apply(lambda x: str(x).replace(',', '')).astype(float)"
   ]
  },
  {
   "cell_type": "code",
   "execution_count": 729,
   "metadata": {
    "execution": {
     "iopub.execute_input": "2025-02-01T23:25:52.740621Z",
     "iopub.status.busy": "2025-02-01T23:25:52.740408Z",
     "iopub.status.idle": "2025-02-01T23:25:52.763156Z",
     "shell.execute_reply": "2025-02-01T23:25:52.762464Z",
     "shell.execute_reply.started": "2025-02-01T23:25:52.740601Z"
    },
    "trusted": true
   },
   "outputs": [],
   "source": [
    "# These categories have instances of only one occurence, ideally these should all go in the training set\n",
    "# but for the sake of this exercise we are just going to drop them\n",
    "for cat in ('Clarity', 'Colour'):\n",
    "    category_counts = df[cat].value_counts()\n",
    "    \n",
    "    # Filter the DataFrame to keep only categories with more than one instance\n",
    "    categories_to_keep = category_counts[category_counts > 1].index\n",
    "    df = df[df[cat].isin(categories_to_keep)]"
   ]
  },
  {
   "cell_type": "code",
   "execution_count": 730,
   "metadata": {
    "execution": {
     "iopub.execute_input": "2025-02-01T23:25:52.765698Z",
     "iopub.status.busy": "2025-02-01T23:25:52.765451Z",
     "iopub.status.idle": "2025-02-01T23:25:52.773810Z",
     "shell.execute_reply": "2025-02-01T23:25:52.773001Z",
     "shell.execute_reply.started": "2025-02-01T23:25:52.765664Z"
    },
    "trusted": true
   },
   "outputs": [
    {
     "data": {
      "text/plain": [
       "(9762, 12)"
      ]
     },
     "execution_count": 730,
     "metadata": {},
     "output_type": "execute_result"
    }
   ],
   "source": [
    "df.shape"
   ]
  },
  {
   "cell_type": "code",
   "execution_count": 731,
   "metadata": {
    "execution": {
     "iopub.execute_input": "2025-02-01T23:25:52.775700Z",
     "iopub.status.busy": "2025-02-01T23:25:52.775483Z",
     "iopub.status.idle": "2025-02-01T23:25:52.798538Z",
     "shell.execute_reply": "2025-02-01T23:25:52.797672Z",
     "shell.execute_reply.started": "2025-02-01T23:25:52.775669Z"
    },
    "trusted": true
   },
   "outputs": [
    {
     "name": "stdout",
     "output_type": "stream",
     "text": [
      "<class 'pandas.core.frame.DataFrame'>\n",
      "Index: 9762 entries, 0 to 9792\n",
      "Data columns (total 12 columns):\n",
      " #   Column        Non-Null Count  Dtype  \n",
      "---  ------        --------------  -----  \n",
      " 0   Id            9762 non-null   object \n",
      " 1   Shape         9762 non-null   object \n",
      " 2   Weight        9762 non-null   float64\n",
      " 3   Clarity       9762 non-null   object \n",
      " 4   Colour        9762 non-null   object \n",
      " 5   Cut           9760 non-null   object \n",
      " 6   Polish        9762 non-null   object \n",
      " 7   Symmetry      9756 non-null   object \n",
      " 8   Fluorescence  9762 non-null   object \n",
      " 9   Messurements  9762 non-null   object \n",
      " 10  Price         9762 non-null   float64\n",
      " 11  Data Url      3447 non-null   object \n",
      "dtypes: float64(2), object(10)\n",
      "memory usage: 991.5+ KB\n"
     ]
    }
   ],
   "source": [
    "df.info()"
   ]
  },
  {
   "cell_type": "code",
   "execution_count": 732,
   "metadata": {
    "execution": {
     "iopub.execute_input": "2025-02-01T23:25:52.799706Z",
     "iopub.status.busy": "2025-02-01T23:25:52.799423Z",
     "iopub.status.idle": "2025-02-01T23:25:52.805589Z",
     "shell.execute_reply": "2025-02-01T23:25:52.804944Z",
     "shell.execute_reply.started": "2025-02-01T23:25:52.799677Z"
    },
    "trusted": true
   },
   "outputs": [
    {
     "data": {
      "text/plain": [
       "Id               object\n",
       "Shape            object\n",
       "Weight          float64\n",
       "Clarity          object\n",
       "Colour           object\n",
       "Cut              object\n",
       "Polish           object\n",
       "Symmetry         object\n",
       "Fluorescence     object\n",
       "Messurements     object\n",
       "Price           float64\n",
       "Data Url         object\n",
       "dtype: object"
      ]
     },
     "execution_count": 732,
     "metadata": {},
     "output_type": "execute_result"
    }
   ],
   "source": [
    "df.dtypes"
   ]
  },
  {
   "cell_type": "code",
   "execution_count": 733,
   "metadata": {
    "execution": {
     "iopub.execute_input": "2025-02-01T23:25:52.806726Z",
     "iopub.status.busy": "2025-02-01T23:25:52.806449Z",
     "iopub.status.idle": "2025-02-01T23:25:52.827844Z",
     "shell.execute_reply": "2025-02-01T23:25:52.827213Z",
     "shell.execute_reply.started": "2025-02-01T23:25:52.806695Z"
    },
    "trusted": true
   },
   "outputs": [
    {
     "data": {
      "text/html": [
       "<div>\n",
       "<style scoped>\n",
       "    .dataframe tbody tr th:only-of-type {\n",
       "        vertical-align: middle;\n",
       "    }\n",
       "\n",
       "    .dataframe tbody tr th {\n",
       "        vertical-align: top;\n",
       "    }\n",
       "\n",
       "    .dataframe thead th {\n",
       "        text-align: right;\n",
       "    }\n",
       "</style>\n",
       "<table border=\"1\" class=\"dataframe\">\n",
       "  <thead>\n",
       "    <tr style=\"text-align: right;\">\n",
       "      <th></th>\n",
       "      <th>Id</th>\n",
       "      <th>Shape</th>\n",
       "      <th>Weight</th>\n",
       "      <th>Clarity</th>\n",
       "      <th>Colour</th>\n",
       "      <th>Cut</th>\n",
       "      <th>Polish</th>\n",
       "      <th>Symmetry</th>\n",
       "      <th>Fluorescence</th>\n",
       "      <th>Messurements</th>\n",
       "      <th>Price</th>\n",
       "      <th>Data Url</th>\n",
       "    </tr>\n",
       "  </thead>\n",
       "  <tbody>\n",
       "    <tr>\n",
       "      <th>0</th>\n",
       "      <td>1799924</td>\n",
       "      <td>EMERALD</td>\n",
       "      <td>0.30</td>\n",
       "      <td>SI1</td>\n",
       "      <td>J</td>\n",
       "      <td>VG</td>\n",
       "      <td>EX</td>\n",
       "      <td>GD</td>\n",
       "      <td>F</td>\n",
       "      <td>4.32-3.27×2.25</td>\n",
       "      <td>588.97</td>\n",
       "      <td>https://capitalwholesalediamonds.com/product/0...</td>\n",
       "    </tr>\n",
       "    <tr>\n",
       "      <th>1</th>\n",
       "      <td>1800669</td>\n",
       "      <td>EMERALD</td>\n",
       "      <td>0.30</td>\n",
       "      <td>VS1</td>\n",
       "      <td>L</td>\n",
       "      <td>EX</td>\n",
       "      <td>EX</td>\n",
       "      <td>VG</td>\n",
       "      <td>N</td>\n",
       "      <td>4.40-3.33×2.25</td>\n",
       "      <td>616.85</td>\n",
       "      <td>https://capitalwholesalediamonds.com/product/0...</td>\n",
       "    </tr>\n",
       "    <tr>\n",
       "      <th>2</th>\n",
       "      <td>1799925</td>\n",
       "      <td>EMERALD</td>\n",
       "      <td>0.35</td>\n",
       "      <td>SI1</td>\n",
       "      <td>M</td>\n",
       "      <td>EX</td>\n",
       "      <td>GD</td>\n",
       "      <td>GD</td>\n",
       "      <td>N</td>\n",
       "      <td>4.71-3.56×2.37</td>\n",
       "      <td>622.53</td>\n",
       "      <td>https://capitalwholesalediamonds.com/product/0...</td>\n",
       "    </tr>\n",
       "    <tr>\n",
       "      <th>3</th>\n",
       "      <td>1800690</td>\n",
       "      <td>EMERALD</td>\n",
       "      <td>0.30</td>\n",
       "      <td>SI1</td>\n",
       "      <td>K</td>\n",
       "      <td>EX</td>\n",
       "      <td>EX</td>\n",
       "      <td>VG</td>\n",
       "      <td>F</td>\n",
       "      <td>4.75-3.28×2.01</td>\n",
       "      <td>628.53</td>\n",
       "      <td>https://capitalwholesalediamonds.com/product/0...</td>\n",
       "    </tr>\n",
       "    <tr>\n",
       "      <th>4</th>\n",
       "      <td>1800668</td>\n",
       "      <td>EMERALD</td>\n",
       "      <td>0.30</td>\n",
       "      <td>VS1</td>\n",
       "      <td>K</td>\n",
       "      <td>VG</td>\n",
       "      <td>VG</td>\n",
       "      <td>GD</td>\n",
       "      <td>N</td>\n",
       "      <td>4.60-3.25×2.13</td>\n",
       "      <td>642.22</td>\n",
       "      <td>https://capitalwholesalediamonds.com/product/0...</td>\n",
       "    </tr>\n",
       "  </tbody>\n",
       "</table>\n",
       "</div>"
      ],
      "text/plain": [
       "        Id    Shape  Weight Clarity Colour Cut Polish Symmetry Fluorescence  \\\n",
       "0  1799924  EMERALD    0.30     SI1      J  VG     EX       GD            F   \n",
       "1  1800669  EMERALD    0.30     VS1      L  EX     EX       VG            N   \n",
       "2  1799925  EMERALD    0.35     SI1      M  EX     GD       GD            N   \n",
       "3  1800690  EMERALD    0.30     SI1      K  EX     EX       VG            F   \n",
       "4  1800668  EMERALD    0.30     VS1      K  VG     VG       GD            N   \n",
       "\n",
       "     Messurements   Price                                           Data Url  \n",
       "0  4.32-3.27×2.25  588.97  https://capitalwholesalediamonds.com/product/0...  \n",
       "1  4.40-3.33×2.25  616.85  https://capitalwholesalediamonds.com/product/0...  \n",
       "2  4.71-3.56×2.37  622.53  https://capitalwholesalediamonds.com/product/0...  \n",
       "3  4.75-3.28×2.01  628.53  https://capitalwholesalediamonds.com/product/0...  \n",
       "4  4.60-3.25×2.13  642.22  https://capitalwholesalediamonds.com/product/0...  "
      ]
     },
     "execution_count": 733,
     "metadata": {},
     "output_type": "execute_result"
    }
   ],
   "source": [
    "df.head()"
   ]
  },
  {
   "cell_type": "code",
   "execution_count": 734,
   "metadata": {
    "execution": {
     "iopub.execute_input": "2025-02-01T23:25:52.828782Z",
     "iopub.status.busy": "2025-02-01T23:25:52.828550Z",
     "iopub.status.idle": "2025-02-01T23:25:52.848621Z",
     "shell.execute_reply": "2025-02-01T23:25:52.847981Z",
     "shell.execute_reply.started": "2025-02-01T23:25:52.828762Z"
    },
    "trusted": true
   },
   "outputs": [
    {
     "data": {
      "text/html": [
       "<div>\n",
       "<style scoped>\n",
       "    .dataframe tbody tr th:only-of-type {\n",
       "        vertical-align: middle;\n",
       "    }\n",
       "\n",
       "    .dataframe tbody tr th {\n",
       "        vertical-align: top;\n",
       "    }\n",
       "\n",
       "    .dataframe thead th {\n",
       "        text-align: right;\n",
       "    }\n",
       "</style>\n",
       "<table border=\"1\" class=\"dataframe\">\n",
       "  <thead>\n",
       "    <tr style=\"text-align: right;\">\n",
       "      <th></th>\n",
       "      <th>Id</th>\n",
       "      <th>Shape</th>\n",
       "      <th>Weight</th>\n",
       "      <th>Clarity</th>\n",
       "      <th>Colour</th>\n",
       "      <th>Cut</th>\n",
       "      <th>Polish</th>\n",
       "      <th>Symmetry</th>\n",
       "      <th>Fluorescence</th>\n",
       "      <th>Messurements</th>\n",
       "      <th>Price</th>\n",
       "      <th>Data Url</th>\n",
       "    </tr>\n",
       "  </thead>\n",
       "  <tbody>\n",
       "    <tr>\n",
       "      <th>9788</th>\n",
       "      <td>1751206</td>\n",
       "      <td>ROUND</td>\n",
       "      <td>0.50</td>\n",
       "      <td>SI1</td>\n",
       "      <td>E</td>\n",
       "      <td>EX</td>\n",
       "      <td>EX</td>\n",
       "      <td>EX</td>\n",
       "      <td>N</td>\n",
       "      <td>5.00-5.04×3.18</td>\n",
       "      <td>2453.10</td>\n",
       "      <td>NaN</td>\n",
       "    </tr>\n",
       "    <tr>\n",
       "      <th>9789</th>\n",
       "      <td>1773024</td>\n",
       "      <td>ROUND</td>\n",
       "      <td>0.50</td>\n",
       "      <td>SI1</td>\n",
       "      <td>E</td>\n",
       "      <td>EX</td>\n",
       "      <td>EX</td>\n",
       "      <td>EX</td>\n",
       "      <td>N</td>\n",
       "      <td>5.03-5.06×3.16</td>\n",
       "      <td>2453.10</td>\n",
       "      <td>NaN</td>\n",
       "    </tr>\n",
       "    <tr>\n",
       "      <th>9790</th>\n",
       "      <td>1789435</td>\n",
       "      <td>ROUND</td>\n",
       "      <td>0.50</td>\n",
       "      <td>VS2</td>\n",
       "      <td>D</td>\n",
       "      <td>VG</td>\n",
       "      <td>EX</td>\n",
       "      <td>VG</td>\n",
       "      <td>N</td>\n",
       "      <td>4.93-4.96×3.19</td>\n",
       "      <td>2453.20</td>\n",
       "      <td>NaN</td>\n",
       "    </tr>\n",
       "    <tr>\n",
       "      <th>9791</th>\n",
       "      <td>1774887</td>\n",
       "      <td>ROUND</td>\n",
       "      <td>0.52</td>\n",
       "      <td>SI1</td>\n",
       "      <td>H</td>\n",
       "      <td>EX</td>\n",
       "      <td>EX</td>\n",
       "      <td>EX</td>\n",
       "      <td>N</td>\n",
       "      <td>5.11-5.13×3.20</td>\n",
       "      <td>2453.41</td>\n",
       "      <td>NaN</td>\n",
       "    </tr>\n",
       "    <tr>\n",
       "      <th>9792</th>\n",
       "      <td>1630512</td>\n",
       "      <td>ROUND</td>\n",
       "      <td>0.50</td>\n",
       "      <td>VS1</td>\n",
       "      <td>H</td>\n",
       "      <td>EX</td>\n",
       "      <td>EX</td>\n",
       "      <td>VG</td>\n",
       "      <td>N</td>\n",
       "      <td>5.09-5.13×3.12</td>\n",
       "      <td>2453.69</td>\n",
       "      <td>NaN</td>\n",
       "    </tr>\n",
       "  </tbody>\n",
       "</table>\n",
       "</div>"
      ],
      "text/plain": [
       "           Id  Shape  Weight Clarity Colour Cut Polish Symmetry Fluorescence  \\\n",
       "9788  1751206  ROUND    0.50     SI1      E  EX     EX       EX            N   \n",
       "9789  1773024  ROUND    0.50     SI1      E  EX     EX       EX            N   \n",
       "9790  1789435  ROUND    0.50     VS2      D  VG     EX       VG            N   \n",
       "9791  1774887  ROUND    0.52     SI1      H  EX     EX       EX            N   \n",
       "9792  1630512  ROUND    0.50     VS1      H  EX     EX       VG            N   \n",
       "\n",
       "        Messurements    Price Data Url  \n",
       "9788  5.00-5.04×3.18  2453.10      NaN  \n",
       "9789  5.03-5.06×3.16  2453.10      NaN  \n",
       "9790  4.93-4.96×3.19  2453.20      NaN  \n",
       "9791  5.11-5.13×3.20  2453.41      NaN  \n",
       "9792  5.09-5.13×3.12  2453.69      NaN  "
      ]
     },
     "execution_count": 734,
     "metadata": {},
     "output_type": "execute_result"
    }
   ],
   "source": [
    "df.tail()"
   ]
  },
  {
   "cell_type": "code",
   "execution_count": 735,
   "metadata": {
    "execution": {
     "iopub.execute_input": "2025-02-01T23:25:52.849658Z",
     "iopub.status.busy": "2025-02-01T23:25:52.849285Z",
     "iopub.status.idle": "2025-02-01T23:25:52.877586Z",
     "shell.execute_reply": "2025-02-01T23:25:52.876990Z",
     "shell.execute_reply.started": "2025-02-01T23:25:52.849615Z"
    },
    "trusted": true
   },
   "outputs": [],
   "source": [
    "# Drop duplicates and extraneous column\n",
    "df = df.drop_duplicates().reset_index(drop=True)\n",
    "df = df.drop('Data Url', axis=1)"
   ]
  },
  {
   "cell_type": "code",
   "execution_count": 736,
   "metadata": {
    "execution": {
     "iopub.execute_input": "2025-02-01T23:25:52.878425Z",
     "iopub.status.busy": "2025-02-01T23:25:52.878216Z",
     "iopub.status.idle": "2025-02-01T23:25:52.884575Z",
     "shell.execute_reply": "2025-02-01T23:25:52.883999Z",
     "shell.execute_reply.started": "2025-02-01T23:25:52.878405Z"
    },
    "trusted": true
   },
   "outputs": [
    {
     "data": {
      "text/plain": [
       "Shape\n",
       "ROUND       3574\n",
       "CUSHION     2050\n",
       "OVAL         841\n",
       "EMERALD      800\n",
       "HEART        693\n",
       "PRINCESS     624\n",
       "PEAR         302\n",
       "RADIANT       84\n",
       "MARQUISE      68\n",
       "Name: count, dtype: int64"
      ]
     },
     "execution_count": 736,
     "metadata": {},
     "output_type": "execute_result"
    }
   ],
   "source": [
    "df['Shape'].value_counts()"
   ]
  },
  {
   "cell_type": "code",
   "execution_count": 737,
   "metadata": {
    "execution": {
     "iopub.execute_input": "2025-02-01T23:25:52.885656Z",
     "iopub.status.busy": "2025-02-01T23:25:52.885373Z",
     "iopub.status.idle": "2025-02-01T23:25:52.899712Z",
     "shell.execute_reply": "2025-02-01T23:25:52.899010Z",
     "shell.execute_reply.started": "2025-02-01T23:25:52.885627Z"
    },
    "trusted": true
   },
   "outputs": [
    {
     "data": {
      "text/plain": [
       "Clarity\n",
       "VS1     2084\n",
       "SI1     1937\n",
       "VS2     1854\n",
       "SI2     1330\n",
       "VVS2    1043\n",
       "VVS1     560\n",
       "IF       166\n",
       "I1        53\n",
       "I2         9\n",
       "Name: count, dtype: int64"
      ]
     },
     "execution_count": 737,
     "metadata": {},
     "output_type": "execute_result"
    }
   ],
   "source": [
    "df['Clarity'].value_counts()"
   ]
  },
  {
   "cell_type": "code",
   "execution_count": 738,
   "metadata": {
    "execution": {
     "iopub.execute_input": "2025-02-01T23:25:52.900880Z",
     "iopub.status.busy": "2025-02-01T23:25:52.900559Z",
     "iopub.status.idle": "2025-02-01T23:25:52.914836Z",
     "shell.execute_reply": "2025-02-01T23:25:52.914089Z",
     "shell.execute_reply.started": "2025-02-01T23:25:52.900850Z"
    },
    "trusted": true
   },
   "outputs": [
    {
     "data": {
      "text/plain": [
       "Colour\n",
       "E        1687\n",
       "F        1484\n",
       "D        1085\n",
       "G        1014\n",
       "I         851\n",
       "H         755\n",
       "J         685\n",
       "K         517\n",
       "FANCY     301\n",
       "L         289\n",
       "M         135\n",
       "N          75\n",
       "U-V        46\n",
       "W-X        45\n",
       "O-P        21\n",
       "S-T        19\n",
       "Y-Z        14\n",
       "Q-R        13\n",
       "Name: count, dtype: int64"
      ]
     },
     "execution_count": 738,
     "metadata": {},
     "output_type": "execute_result"
    }
   ],
   "source": [
    "df['Colour'].value_counts()"
   ]
  },
  {
   "cell_type": "code",
   "execution_count": 739,
   "metadata": {
    "execution": {
     "iopub.execute_input": "2025-02-01T23:25:52.915936Z",
     "iopub.status.busy": "2025-02-01T23:25:52.915681Z",
     "iopub.status.idle": "2025-02-01T23:25:52.930812Z",
     "shell.execute_reply": "2025-02-01T23:25:52.929850Z",
     "shell.execute_reply.started": "2025-02-01T23:25:52.915898Z"
    },
    "trusted": true
   },
   "outputs": [
    {
     "data": {
      "text/plain": [
       "Cut\n",
       "EX    6680\n",
       "VG    1879\n",
       "GD     450\n",
       "F       25\n",
       "Name: count, dtype: int64"
      ]
     },
     "execution_count": 739,
     "metadata": {},
     "output_type": "execute_result"
    }
   ],
   "source": [
    "df['Cut'].value_counts()"
   ]
  },
  {
   "cell_type": "code",
   "execution_count": 740,
   "metadata": {
    "execution": {
     "iopub.execute_input": "2025-02-01T23:25:52.931707Z",
     "iopub.status.busy": "2025-02-01T23:25:52.931515Z",
     "iopub.status.idle": "2025-02-01T23:25:52.945963Z",
     "shell.execute_reply": "2025-02-01T23:25:52.945318Z",
     "shell.execute_reply.started": "2025-02-01T23:25:52.931689Z"
    },
    "trusted": true
   },
   "outputs": [
    {
     "data": {
      "text/plain": [
       "Polish\n",
       "EX    7249\n",
       "VG    1644\n",
       "GD     140\n",
       "F        3\n",
       "Name: count, dtype: int64"
      ]
     },
     "execution_count": 740,
     "metadata": {},
     "output_type": "execute_result"
    }
   ],
   "source": [
    "df['Polish'].value_counts()"
   ]
  },
  {
   "cell_type": "code",
   "execution_count": 741,
   "metadata": {
    "execution": {
     "iopub.execute_input": "2025-02-01T23:25:52.946860Z",
     "iopub.status.busy": "2025-02-01T23:25:52.946669Z",
     "iopub.status.idle": "2025-02-01T23:25:52.962005Z",
     "shell.execute_reply": "2025-02-01T23:25:52.961342Z",
     "shell.execute_reply.started": "2025-02-01T23:25:52.946842Z"
    },
    "trusted": true
   },
   "outputs": [
    {
     "data": {
      "text/plain": [
       "Fluorescence\n",
       "N      6507\n",
       "F      1601\n",
       "M       596\n",
       "ST      295\n",
       "VS       20\n",
       "VSL      10\n",
       "SL        7\n",
       "Name: count, dtype: int64"
      ]
     },
     "execution_count": 741,
     "metadata": {},
     "output_type": "execute_result"
    }
   ],
   "source": [
    "df['Fluorescence'].value_counts()"
   ]
  },
  {
   "cell_type": "code",
   "execution_count": 742,
   "metadata": {
    "execution": {
     "iopub.execute_input": "2025-02-01T23:25:52.962914Z",
     "iopub.status.busy": "2025-02-01T23:25:52.962712Z",
     "iopub.status.idle": "2025-02-01T23:25:52.975233Z",
     "shell.execute_reply": "2025-02-01T23:25:52.974425Z",
     "shell.execute_reply.started": "2025-02-01T23:25:52.962894Z"
    },
    "trusted": true
   },
   "outputs": [],
   "source": [
    "import re"
   ]
  },
  {
   "cell_type": "code",
   "execution_count": 743,
   "metadata": {
    "execution": {
     "iopub.execute_input": "2025-02-01T23:25:52.976352Z",
     "iopub.status.busy": "2025-02-01T23:25:52.976096Z",
     "iopub.status.idle": "2025-02-01T23:25:52.988615Z",
     "shell.execute_reply": "2025-02-01T23:25:52.988004Z",
     "shell.execute_reply.started": "2025-02-01T23:25:52.976322Z"
    },
    "trusted": true
   },
   "outputs": [],
   "source": [
    "def extract_measurements(measurement):\n",
    "    # Regular expression to match the pattern\n",
    "    match = re.search(r'(\\d+\\.\\d+)\\s*[-–]\\s*(\\d+\\.\\d+)\\s*[x×]\\s*(\\d+\\.\\d+)', measurement)\n",
    "    if match:\n",
    "        height = float(match.group(1))\n",
    "        width = float(match.group(2))\n",
    "        depth = float(match.group(3))\n",
    "        return height, width, depth\n",
    "    else:\n",
    "        return None, None, None"
   ]
  },
  {
   "cell_type": "code",
   "execution_count": 744,
   "metadata": {
    "execution": {
     "iopub.execute_input": "2025-02-01T23:25:52.989677Z",
     "iopub.status.busy": "2025-02-01T23:25:52.989405Z",
     "iopub.status.idle": "2025-02-01T23:25:53.629433Z",
     "shell.execute_reply": "2025-02-01T23:25:53.628699Z",
     "shell.execute_reply.started": "2025-02-01T23:25:52.989656Z"
    },
    "trusted": true
   },
   "outputs": [
    {
     "data": {
      "text/html": [
       "<div>\n",
       "<style scoped>\n",
       "    .dataframe tbody tr th:only-of-type {\n",
       "        vertical-align: middle;\n",
       "    }\n",
       "\n",
       "    .dataframe tbody tr th {\n",
       "        vertical-align: top;\n",
       "    }\n",
       "\n",
       "    .dataframe thead th {\n",
       "        text-align: right;\n",
       "    }\n",
       "</style>\n",
       "<table border=\"1\" class=\"dataframe\">\n",
       "  <thead>\n",
       "    <tr style=\"text-align: right;\">\n",
       "      <th></th>\n",
       "      <th>Id</th>\n",
       "      <th>Shape</th>\n",
       "      <th>Weight</th>\n",
       "      <th>Clarity</th>\n",
       "      <th>Colour</th>\n",
       "      <th>Cut</th>\n",
       "      <th>Polish</th>\n",
       "      <th>Symmetry</th>\n",
       "      <th>Fluorescence</th>\n",
       "      <th>Price</th>\n",
       "      <th>Height</th>\n",
       "      <th>Width</th>\n",
       "      <th>Depth</th>\n",
       "    </tr>\n",
       "  </thead>\n",
       "  <tbody>\n",
       "    <tr>\n",
       "      <th>0</th>\n",
       "      <td>1799924</td>\n",
       "      <td>EMERALD</td>\n",
       "      <td>0.30</td>\n",
       "      <td>SI1</td>\n",
       "      <td>J</td>\n",
       "      <td>VG</td>\n",
       "      <td>EX</td>\n",
       "      <td>GD</td>\n",
       "      <td>F</td>\n",
       "      <td>588.97</td>\n",
       "      <td>4.32</td>\n",
       "      <td>3.27</td>\n",
       "      <td>2.25</td>\n",
       "    </tr>\n",
       "    <tr>\n",
       "      <th>1</th>\n",
       "      <td>1800669</td>\n",
       "      <td>EMERALD</td>\n",
       "      <td>0.30</td>\n",
       "      <td>VS1</td>\n",
       "      <td>L</td>\n",
       "      <td>EX</td>\n",
       "      <td>EX</td>\n",
       "      <td>VG</td>\n",
       "      <td>N</td>\n",
       "      <td>616.85</td>\n",
       "      <td>4.40</td>\n",
       "      <td>3.33</td>\n",
       "      <td>2.25</td>\n",
       "    </tr>\n",
       "    <tr>\n",
       "      <th>2</th>\n",
       "      <td>1799925</td>\n",
       "      <td>EMERALD</td>\n",
       "      <td>0.35</td>\n",
       "      <td>SI1</td>\n",
       "      <td>M</td>\n",
       "      <td>EX</td>\n",
       "      <td>GD</td>\n",
       "      <td>GD</td>\n",
       "      <td>N</td>\n",
       "      <td>622.53</td>\n",
       "      <td>4.71</td>\n",
       "      <td>3.56</td>\n",
       "      <td>2.37</td>\n",
       "    </tr>\n",
       "    <tr>\n",
       "      <th>3</th>\n",
       "      <td>1800690</td>\n",
       "      <td>EMERALD</td>\n",
       "      <td>0.30</td>\n",
       "      <td>SI1</td>\n",
       "      <td>K</td>\n",
       "      <td>EX</td>\n",
       "      <td>EX</td>\n",
       "      <td>VG</td>\n",
       "      <td>F</td>\n",
       "      <td>628.53</td>\n",
       "      <td>4.75</td>\n",
       "      <td>3.28</td>\n",
       "      <td>2.01</td>\n",
       "    </tr>\n",
       "    <tr>\n",
       "      <th>4</th>\n",
       "      <td>1800668</td>\n",
       "      <td>EMERALD</td>\n",
       "      <td>0.30</td>\n",
       "      <td>VS1</td>\n",
       "      <td>K</td>\n",
       "      <td>VG</td>\n",
       "      <td>VG</td>\n",
       "      <td>GD</td>\n",
       "      <td>N</td>\n",
       "      <td>642.22</td>\n",
       "      <td>4.60</td>\n",
       "      <td>3.25</td>\n",
       "      <td>2.13</td>\n",
       "    </tr>\n",
       "  </tbody>\n",
       "</table>\n",
       "</div>"
      ],
      "text/plain": [
       "        Id    Shape  Weight Clarity Colour Cut Polish Symmetry Fluorescence  \\\n",
       "0  1799924  EMERALD    0.30     SI1      J  VG     EX       GD            F   \n",
       "1  1800669  EMERALD    0.30     VS1      L  EX     EX       VG            N   \n",
       "2  1799925  EMERALD    0.35     SI1      M  EX     GD       GD            N   \n",
       "3  1800690  EMERALD    0.30     SI1      K  EX     EX       VG            F   \n",
       "4  1800668  EMERALD    0.30     VS1      K  VG     VG       GD            N   \n",
       "\n",
       "    Price  Height  Width  Depth  \n",
       "0  588.97    4.32   3.27   2.25  \n",
       "1  616.85    4.40   3.33   2.25  \n",
       "2  622.53    4.71   3.56   2.37  \n",
       "3  628.53    4.75   3.28   2.01  \n",
       "4  642.22    4.60   3.25   2.13  "
      ]
     },
     "execution_count": 744,
     "metadata": {},
     "output_type": "execute_result"
    }
   ],
   "source": [
    "# Apply the function to create new columns\n",
    "df[['Height', 'Width', 'Depth']] = df['Messurements'].apply(extract_measurements).apply(pd.Series)\n",
    "\n",
    "df = df.drop('Messurements', axis=1)\n",
    "\n",
    "df.head()"
   ]
  },
  {
   "cell_type": "code",
   "execution_count": 745,
   "metadata": {
    "execution": {
     "iopub.execute_input": "2025-02-01T23:25:53.633385Z",
     "iopub.status.busy": "2025-02-01T23:25:53.633134Z",
     "iopub.status.idle": "2025-02-01T23:25:53.636899Z",
     "shell.execute_reply": "2025-02-01T23:25:53.636060Z",
     "shell.execute_reply.started": "2025-02-01T23:25:53.633361Z"
    },
    "trusted": true
   },
   "outputs": [],
   "source": [
    "import matplotlib.pyplot as plt\n",
    "import seaborn as sns"
   ]
  },
  {
   "cell_type": "code",
   "execution_count": 746,
   "metadata": {
    "execution": {
     "iopub.execute_input": "2025-02-01T23:25:53.638382Z",
     "iopub.status.busy": "2025-02-01T23:25:53.638183Z",
     "iopub.status.idle": "2025-02-01T23:25:54.117099Z",
     "shell.execute_reply": "2025-02-01T23:25:54.116211Z",
     "shell.execute_reply.started": "2025-02-01T23:25:53.638361Z"
    },
    "trusted": true
   },
   "outputs": [
    {
     "data": {
      "image/png": "[encoded data removed]",
      "text/plain": [
       "<Figure size 700x500 with 1 Axes>"
      ]
     },
     "metadata": {},
     "output_type": "display_data"
    }
   ],
   "source": [
    "plt.figure(figsize=(7, 5))\n",
    "plt.title('Distribution of Diamond Prices')\n",
    "plt.xlabel('Price')\n",
    "plt.ylabel('Frequency')\n",
    "\n",
    "_ = sns.histplot(data=df, x='Price', bins=30, binwidth=1000, kde=True)"
   ]
  },
  {
   "cell_type": "code",
   "execution_count": 747,
   "metadata": {
    "execution": {
     "iopub.execute_input": "2025-02-01T23:25:54.118326Z",
     "iopub.status.busy": "2025-02-01T23:25:54.118054Z",
     "iopub.status.idle": "2025-02-01T23:25:55.714392Z",
     "shell.execute_reply": "2025-02-01T23:25:55.713507Z",
     "shell.execute_reply.started": "2025-02-01T23:25:54.118304Z"
    },
    "trusted": true
   },
   "outputs": [
    {
     "data": {
      "image/png": "[encoded data removed]",
      "text/plain": [
       "<Figure size 1500x500 with 4 Axes>"
      ]
     },
     "metadata": {},
     "output_type": "display_data"
    }
   ],
   "source": [
    "# Create subplots\n",
    "fig, axes = plt.subplots(2, 2, figsize=(15, 5))\n",
    "\n",
    "# Columns to plot\n",
    "columns = ['Height', 'Width', 'Depth', 'Weight']\n",
    "\n",
    "for i, col in enumerate(columns):\n",
    "    row = i // 2\n",
    "    col_idx = i % 2\n",
    "    sns.histplot(data=df, x=col, bins=30, kde=True, ax=axes[row, col_idx])\n",
    "    axes[row, col_idx].set_title(f'{col.capitalize()} Distribution')\n",
    "    axes[row, col_idx].set_xlabel(f'{col.capitalize()}' if col != 'weight' else f'{col.capitalize()} (carat)')\n",
    "    axes[row, col_idx].set_ylabel('Frequency')\n",
    "\n",
    "# Adjust layout\n",
    "plt.tight_layout()"
   ]
  },
  {
   "cell_type": "code",
   "execution_count": 748,
   "metadata": {
    "execution": {
     "iopub.execute_input": "2025-02-01T23:25:55.715768Z",
     "iopub.status.busy": "2025-02-01T23:25:55.715446Z",
     "iopub.status.idle": "2025-02-01T23:26:32.819423Z",
     "shell.execute_reply": "2025-02-01T23:26:32.818441Z",
     "shell.execute_reply.started": "2025-02-01T23:25:55.715735Z"
    },
    "trusted": true
   },
   "outputs": [
    {
     "data": {
      "text/plain": [
       "<seaborn.axisgrid.PairGrid at 0x7c90b3513a00>"
      ]
     },
     "execution_count": 748,
     "metadata": {},
     "output_type": "execute_result"
    },
    {
     "data": {
      "image/png": "[encoded data removed]",
      "text/plain": [
       "<Figure size 1250x1250 with 30 Axes>"
      ]
     },
     "metadata": {},
     "output_type": "display_data"
    }
   ],
   "source": [
    "sns.pairplot(df)"
   ]
  },
  {
   "cell_type": "code",
   "execution_count": 749,
   "metadata": {
    "execution": {
     "iopub.execute_input": "2025-02-01T23:26:32.820548Z",
     "iopub.status.busy": "2025-02-01T23:26:32.820303Z",
     "iopub.status.idle": "2025-02-01T23:26:32.825378Z",
     "shell.execute_reply": "2025-02-01T23:26:32.824416Z",
     "shell.execute_reply.started": "2025-02-01T23:26:32.820525Z"
    },
    "trusted": true
   },
   "outputs": [],
   "source": [
    "# Define the base directories for the images\n",
    "image_dirs = [\n",
    "    os.path.join(ROOT, 'Diamonds', 'Diamonds', 'images'),\n",
    "    os.path.join(ROOT, 'Diamonds2', 'images')\n",
    "]\n",
    "\n",
    "# Function to get the fully qualified path for the image\n",
    "def get_image_path(id):\n",
    "    for image_dir in image_dirs:\n",
    "        for folder in os.listdir(image_dir):\n",
    "            folder_path = os.path.join(image_dir, folder)\n",
    "            if os.path.isdir(folder_path):\n",
    "                image_path = os.path.join(folder_path, f'{id}.jpg')  # Assuming .jpg extension\n",
    "                if os.path.exists(image_path):\n",
    "                    return image_path\n",
    "    return None"
   ]
  },
  {
   "cell_type": "code",
   "execution_count": 750,
   "metadata": {
    "execution": {
     "iopub.execute_input": "2025-02-01T23:26:32.826320Z",
     "iopub.status.busy": "2025-02-01T23:26:32.826071Z",
     "iopub.status.idle": "2025-02-01T23:26:43.318162Z",
     "shell.execute_reply": "2025-02-01T23:26:43.317545Z",
     "shell.execute_reply.started": "2025-02-01T23:26:32.826292Z"
    },
    "trusted": true
   },
   "outputs": [
    {
     "data": {
      "application/vnd.jupyter.widget-view+json": {
       "model_id": "ca35d2c4e997474bbab9e1fc16f72242",
       "version_major": 2,
       "version_minor": 0
      },
      "text/plain": [
       "Pandas Apply:   0%|          | 0/9036 [00:00<?, ?it/s]"
      ]
     },
     "metadata": {},
     "output_type": "display_data"
    },
    {
     "data": {
      "text/html": [
       "<div>\n",
       "<style scoped>\n",
       "    .dataframe tbody tr th:only-of-type {\n",
       "        vertical-align: middle;\n",
       "    }\n",
       "\n",
       "    .dataframe tbody tr th {\n",
       "        vertical-align: top;\n",
       "    }\n",
       "\n",
       "    .dataframe thead th {\n",
       "        text-align: right;\n",
       "    }\n",
       "</style>\n",
       "<table border=\"1\" class=\"dataframe\">\n",
       "  <thead>\n",
       "    <tr style=\"text-align: right;\">\n",
       "      <th></th>\n",
       "      <th>Shape</th>\n",
       "      <th>Weight</th>\n",
       "      <th>Clarity</th>\n",
       "      <th>Colour</th>\n",
       "      <th>Cut</th>\n",
       "      <th>Polish</th>\n",
       "      <th>Symmetry</th>\n",
       "      <th>Fluorescence</th>\n",
       "      <th>Price</th>\n",
       "      <th>Height</th>\n",
       "      <th>Width</th>\n",
       "      <th>Depth</th>\n",
       "      <th>image_path</th>\n",
       "    </tr>\n",
       "  </thead>\n",
       "  <tbody>\n",
       "    <tr>\n",
       "      <th>0</th>\n",
       "      <td>EMERALD</td>\n",
       "      <td>0.30</td>\n",
       "      <td>SI1</td>\n",
       "      <td>J</td>\n",
       "      <td>VG</td>\n",
       "      <td>EX</td>\n",
       "      <td>GD</td>\n",
       "      <td>F</td>\n",
       "      <td>588.97</td>\n",
       "      <td>4.32</td>\n",
       "      <td>3.27</td>\n",
       "      <td>2.25</td>\n",
       "      <td>/kaggle/input/natural-diamonds-prices-images/D...</td>\n",
       "    </tr>\n",
       "    <tr>\n",
       "      <th>1</th>\n",
       "      <td>EMERALD</td>\n",
       "      <td>0.30</td>\n",
       "      <td>VS1</td>\n",
       "      <td>L</td>\n",
       "      <td>EX</td>\n",
       "      <td>EX</td>\n",
       "      <td>VG</td>\n",
       "      <td>N</td>\n",
       "      <td>616.85</td>\n",
       "      <td>4.40</td>\n",
       "      <td>3.33</td>\n",
       "      <td>2.25</td>\n",
       "      <td>/kaggle/input/natural-diamonds-prices-images/D...</td>\n",
       "    </tr>\n",
       "    <tr>\n",
       "      <th>2</th>\n",
       "      <td>EMERALD</td>\n",
       "      <td>0.35</td>\n",
       "      <td>SI1</td>\n",
       "      <td>M</td>\n",
       "      <td>EX</td>\n",
       "      <td>GD</td>\n",
       "      <td>GD</td>\n",
       "      <td>N</td>\n",
       "      <td>622.53</td>\n",
       "      <td>4.71</td>\n",
       "      <td>3.56</td>\n",
       "      <td>2.37</td>\n",
       "      <td>/kaggle/input/natural-diamonds-prices-images/D...</td>\n",
       "    </tr>\n",
       "    <tr>\n",
       "      <th>3</th>\n",
       "      <td>EMERALD</td>\n",
       "      <td>0.30</td>\n",
       "      <td>SI1</td>\n",
       "      <td>K</td>\n",
       "      <td>EX</td>\n",
       "      <td>EX</td>\n",
       "      <td>VG</td>\n",
       "      <td>F</td>\n",
       "      <td>628.53</td>\n",
       "      <td>4.75</td>\n",
       "      <td>3.28</td>\n",
       "      <td>2.01</td>\n",
       "      <td>/kaggle/input/natural-diamonds-prices-images/D...</td>\n",
       "    </tr>\n",
       "    <tr>\n",
       "      <th>4</th>\n",
       "      <td>EMERALD</td>\n",
       "      <td>0.30</td>\n",
       "      <td>VS1</td>\n",
       "      <td>K</td>\n",
       "      <td>VG</td>\n",
       "      <td>VG</td>\n",
       "      <td>GD</td>\n",
       "      <td>N</td>\n",
       "      <td>642.22</td>\n",
       "      <td>4.60</td>\n",
       "      <td>3.25</td>\n",
       "      <td>2.13</td>\n",
       "      <td>/kaggle/input/natural-diamonds-prices-images/D...</td>\n",
       "    </tr>\n",
       "  </tbody>\n",
       "</table>\n",
       "</div>"
      ],
      "text/plain": [
       "     Shape  Weight Clarity Colour Cut Polish Symmetry Fluorescence   Price  \\\n",
       "0  EMERALD    0.30     SI1      J  VG     EX       GD            F  588.97   \n",
       "1  EMERALD    0.30     VS1      L  EX     EX       VG            N  616.85   \n",
       "2  EMERALD    0.35     SI1      M  EX     GD       GD            N  622.53   \n",
       "3  EMERALD    0.30     SI1      K  EX     EX       VG            F  628.53   \n",
       "4  EMERALD    0.30     VS1      K  VG     VG       GD            N  642.22   \n",
       "\n",
       "   Height  Width  Depth                                         image_path  \n",
       "0    4.32   3.27   2.25  /kaggle/input/natural-diamonds-prices-images/D...  \n",
       "1    4.40   3.33   2.25  /kaggle/input/natural-diamonds-prices-images/D...  \n",
       "2    4.71   3.56   2.37  /kaggle/input/natural-diamonds-prices-images/D...  \n",
       "3    4.75   3.28   2.01  /kaggle/input/natural-diamonds-prices-images/D...  \n",
       "4    4.60   3.25   2.13  /kaggle/input/natural-diamonds-prices-images/D...  "
      ]
     },
     "execution_count": 750,
     "metadata": {},
     "output_type": "execute_result"
    }
   ],
   "source": [
    "# Apply the function to create a new column with the image paths\n",
    "df['image_path'] = df['Id'].swifter.apply(get_image_path)\n",
    "df = df.drop('Id', axis=1)\n",
    "df.head()"
   ]
  },
  {
   "cell_type": "code",
   "execution_count": 751,
   "metadata": {
    "execution": {
     "iopub.execute_input": "2025-02-01T23:26:43.319292Z",
     "iopub.status.busy": "2025-02-01T23:26:43.318992Z",
     "iopub.status.idle": "2025-02-01T23:26:43.411372Z",
     "shell.execute_reply": "2025-02-01T23:26:43.410456Z",
     "shell.execute_reply.started": "2025-02-01T23:26:43.319252Z"
    },
    "trusted": true
   },
   "outputs": [
    {
     "data": {
      "application/vnd.jupyter.widget-view+json": {
       "model_id": "f3ffebbbef664b7e9bb3e298965e6f08",
       "version_major": 2,
       "version_minor": 0
      },
      "text/plain": [
       "Pandas Apply:   0%|          | 0/9036 [00:00<?, ?it/s]"
      ]
     },
     "metadata": {},
     "output_type": "display_data"
    }
   ],
   "source": [
    "def does_image_not_exist(path):\n",
    "    try:\n",
    "        if not os.path.exists(path):\n",
    "            return np.nan\n",
    "        return path\n",
    "    except:\n",
    "        return np.nan\n",
    "\n",
    "df['image_path'] = df['image_path'].swifter.apply(does_image_not_exist)\n",
    "df = df.dropna().reset_index(drop=True)"
   ]
  },
  {
   "cell_type": "code",
   "execution_count": 752,
   "metadata": {
    "execution": {
     "iopub.execute_input": "2025-02-01T23:26:43.412761Z",
     "iopub.status.busy": "2025-02-01T23:26:43.412469Z",
     "iopub.status.idle": "2025-02-01T23:26:43.431329Z",
     "shell.execute_reply": "2025-02-01T23:26:43.430233Z",
     "shell.execute_reply.started": "2025-02-01T23:26:43.412726Z"
    },
    "trusted": true
   },
   "outputs": [],
   "source": [
    "df = pd.get_dummies(df, columns=['Clarity', 'Colour', 'Cut', 'Polish', 'Symmetry', 'Fluorescence'], dtype=int, drop_first=True)"
   ]
  },
  {
   "cell_type": "code",
   "execution_count": 753,
   "metadata": {
    "execution": {
     "iopub.execute_input": "2025-02-01T23:26:43.432493Z",
     "iopub.status.busy": "2025-02-01T23:26:43.432188Z",
     "iopub.status.idle": "2025-02-01T23:26:43.435991Z",
     "shell.execute_reply": "2025-02-01T23:26:43.435054Z",
     "shell.execute_reply.started": "2025-02-01T23:26:43.432472Z"
    },
    "trusted": true
   },
   "outputs": [],
   "source": [
    "from sklearn.model_selection import train_test_split\n",
    "from sklearn.preprocessing import StandardScaler"
   ]
  },
  {
   "cell_type": "code",
   "execution_count": 754,
   "metadata": {
    "execution": {
     "iopub.execute_input": "2025-02-01T23:26:43.437056Z",
     "iopub.status.busy": "2025-02-01T23:26:43.436816Z",
     "iopub.status.idle": "2025-02-01T23:26:43.461562Z",
     "shell.execute_reply": "2025-02-01T23:26:43.460901Z",
     "shell.execute_reply.started": "2025-02-01T23:26:43.437037Z"
    },
    "trusted": true
   },
   "outputs": [],
   "source": [
    "X_train, X_test, y_train, y_test = train_test_split(df.drop('Price', axis=1), df['Price'], test_size=0.2, random_state=42, stratify=df['Shape'])"
   ]
  },
  {
   "cell_type": "code",
   "execution_count": 755,
   "metadata": {
    "execution": {
     "iopub.execute_input": "2025-02-01T23:26:43.462651Z",
     "iopub.status.busy": "2025-02-01T23:26:43.462347Z",
     "iopub.status.idle": "2025-02-01T23:26:43.473295Z",
     "shell.execute_reply": "2025-02-01T23:26:43.472678Z",
     "shell.execute_reply.started": "2025-02-01T23:26:43.462611Z"
    },
    "trusted": true
   },
   "outputs": [],
   "source": [
    "X_train = pd.get_dummies(X_train, columns=['Shape'], dtype=int, drop_first=True)\n",
    "X_test = pd.get_dummies(X_test, columns=['Shape'], dtype=int, drop_first=True)"
   ]
  },
  {
   "cell_type": "code",
   "execution_count": 756,
   "metadata": {
    "execution": {
     "iopub.execute_input": "2025-02-01T23:26:43.474399Z",
     "iopub.status.busy": "2025-02-01T23:26:43.474126Z",
     "iopub.status.idle": "2025-02-01T23:26:43.486030Z",
     "shell.execute_reply": "2025-02-01T23:26:43.485310Z",
     "shell.execute_reply.started": "2025-02-01T23:26:43.474371Z"
    },
    "trusted": true
   },
   "outputs": [],
   "source": [
    "ss = StandardScaler()\n",
    "X_train[[\"Weight\", \"Height\", \"Width\", \"Depth\"]] = ss.fit_transform(X_train[[\"Weight\", \"Height\", \"Width\", \"Depth\"]])\n",
    "X_test[[\"Weight\", \"Height\", \"Width\", \"Depth\"]] = ss.transform(X_test[[\"Weight\", \"Height\", \"Width\", \"Depth\"]])"
   ]
  },
  {
   "cell_type": "code",
   "execution_count": 757,
   "metadata": {
    "execution": {
     "iopub.execute_input": "2025-02-01T23:26:43.487183Z",
     "iopub.status.busy": "2025-02-01T23:26:43.486906Z",
     "iopub.status.idle": "2025-02-01T23:26:43.499240Z",
     "shell.execute_reply": "2025-02-01T23:26:43.498558Z",
     "shell.execute_reply.started": "2025-02-01T23:26:43.487161Z"
    },
    "trusted": true
   },
   "outputs": [],
   "source": [
    "X_train, y_train = X_train.reset_index(drop=True), y_train.reset_index(drop=True)\n",
    "X_test, y_test = X_test.reset_index(drop=True), y_test.reset_index(drop=True)"
   ]
  },
  {
   "cell_type": "code",
   "execution_count": 758,
   "metadata": {
    "execution": {
     "iopub.execute_input": "2025-02-01T23:26:43.500180Z",
     "iopub.status.busy": "2025-02-01T23:26:43.499981Z",
     "iopub.status.idle": "2025-02-01T23:26:43.513386Z",
     "shell.execute_reply": "2025-02-01T23:26:43.512680Z",
     "shell.execute_reply.started": "2025-02-01T23:26:43.500160Z"
    },
    "trusted": true
   },
   "outputs": [],
   "source": [
    "import torch\n",
    "\n",
    "from torch.utils.data import Dataset, DataLoader\n",
    "from torchvision import transforms\n",
    "from PIL import Image\n",
    "\n",
    "# Define the custom dataset class\n",
    "class DiamondDataset(Dataset):\n",
    "    def __init__(self, df, target, transform=None):\n",
    "        self.df = df\n",
    "        self.target = target\n",
    "        self.transform = transform\n",
    "\n",
    "    def __len__(self):\n",
    "        return len(self.df)\n",
    "\n",
    "    def __getitem__(self, idx):\n",
    "        # Load tabular data\n",
    "        tabular_data = self.df.iloc[idx, :].drop('image_path').values.astype(float)\n",
    "        \n",
    "        # Load image\n",
    "        image_path = self.df.iloc[idx]['image_path']\n",
    "        image = Image.open(image_path).convert('RGB')\n",
    "        \n",
    "        # Apply transformations if any\n",
    "        if self.transform:\n",
    "            image = self.transform(image)\n",
    "        \n",
    "        # Convert tabular data to tensor\n",
    "        tabular_tensor = torch.tensor(tabular_data, dtype=torch.float32)\n",
    "        \n",
    "        # Return the data in the desired tensor format\n",
    "        return image, tabular_tensor, torch.tensor(self.target[idx].astype(float), dtype=torch.float32).unsqueeze(-1)\n",
    "\n",
    "# Define the transformation for images\n",
    "transform = transforms.Compose([\n",
    "    transforms.Resize((128, 128)),  # Resize the image to a fixed size\n",
    "    transforms.ToTensor(),          # Convert the image to a tensor\n",
    "    transforms.Normalize(mean=[0.485, 0.456, 0.406], std=[0.229, 0.224, 0.225])  # Normalize the image\n",
    "])"
   ]
  },
  {
   "cell_type": "code",
   "execution_count": 759,
   "metadata": {
    "execution": {
     "iopub.execute_input": "2025-02-01T23:26:43.514312Z",
     "iopub.status.busy": "2025-02-01T23:26:43.514128Z",
     "iopub.status.idle": "2025-02-01T23:26:44.075847Z",
     "shell.execute_reply": "2025-02-01T23:26:44.074588Z",
     "shell.execute_reply.started": "2025-02-01T23:26:43.514295Z"
    },
    "trusted": true
   },
   "outputs": [
    {
     "name": "stdout",
     "output_type": "stream",
     "text": [
      "Images shape: torch.Size([32, 3, 128, 128])\n",
      "Tabular data shape: torch.Size([32, 52])\n",
      "Target data shape: torch.Size([32, 1])\n"
     ]
    }
   ],
   "source": [
    "train_dataset = DiamondDataset(X_train, y_train.values, transform=transform)\n",
    "test_dataset = DiamondDataset(X_test, y_test.values, transform=transform)\n",
    "\n",
    "# Create a DataLoader\n",
    "batch_size = 32\n",
    "train_dataloader = DataLoader(train_dataset, batch_size=batch_size, shuffle=True, num_workers=os.cpu_count())\n",
    "test_dataloader = DataLoader(test_dataset, batch_size=batch_size, shuffle=False, num_workers=os.cpu_count())\n",
    "\n",
    "\n",
    "# Example usage: Iterate through the DataLoader\n",
    "for images, tabular_data, target in train_dataloader:\n",
    "    print(f\"Images shape: {images.shape}\")  # Should be (batch_size, 3, 64, 64)\n",
    "    print(f\"Tabular data shape: {tabular_data.shape}\")  # Should be (batch_size, num_features)\n",
    "    print(f\"Target data shape: {target.shape}\")  # Should be (batch_size, 1)\n",
    "    break  # Break after the first batch for demonstration"
   ]
  },
  {
   "cell_type": "code",
   "execution_count": 760,
   "metadata": {
    "execution": {
     "iopub.execute_input": "2025-02-01T23:26:44.077638Z",
     "iopub.status.busy": "2025-02-01T23:26:44.077262Z",
     "iopub.status.idle": "2025-02-01T23:26:44.082328Z",
     "shell.execute_reply": "2025-02-01T23:26:44.081432Z",
     "shell.execute_reply.started": "2025-02-01T23:26:44.077595Z"
    },
    "trusted": true
   },
   "outputs": [],
   "source": [
    "import torch.nn as nn\n",
    "import torch.nn.functional as F\n",
    "import torch.optim as optim\n",
    "from torch.utils.data import Dataset, DataLoader\n",
    "from torchvision import models, transforms"
   ]
  },
  {
   "cell_type": "code",
   "execution_count": 761,
   "metadata": {
    "execution": {
     "iopub.execute_input": "2025-02-01T23:26:44.083518Z",
     "iopub.status.busy": "2025-02-01T23:26:44.083214Z",
     "iopub.status.idle": "2025-02-01T23:26:44.096948Z",
     "shell.execute_reply": "2025-02-01T23:26:44.096020Z",
     "shell.execute_reply.started": "2025-02-01T23:26:44.083488Z"
    },
    "trusted": true
   },
   "outputs": [],
   "source": [
    "device = torch.device('cuda' if torch.cuda.is_available() else 'cpu')\n",
    "\n",
    "class CombinedModel(nn.Module):\n",
    "    def __init__(self, num_tabular_features, num_classes):\n",
    "        super(CombinedModel, self).__init__()\n",
    "        \n",
    "        # Load a pre-trained CNN (e.g., ResNet18)\n",
    "        self.cnn = models.resnet18(weights=models.ResNet18_Weights.DEFAULT)\n",
    "        \n",
    "        # for param in self.cnn.parameters():\n",
    "        #     param.requires_grad = True\n",
    "        \n",
    "        # Replace the last layer of the CNN to match the desired output size\n",
    "        num_features = self.cnn.fc.in_features\n",
    "        self.cnn.fc = nn.Identity()  # Remove the last fully connected layer\n",
    "        \n",
    "        # Define a fully connected layer to combine image and tabular features\n",
    "        self.fc1 = nn.Linear(num_features + num_tabular_features, 256)\n",
    "        self.fc2 = nn.Linear(256, 64)\n",
    "        self.fc3 = nn.Linear(64, num_classes)\n",
    "        \n",
    "        # Activation functions\n",
    "        self.relu = nn.ReLU()\n",
    "        self.dropout = nn.Dropout(0.5)\n",
    "\n",
    "    def forward(self, image, tabular):\n",
    "        # Extract features from the image using the pre-trained CNN\n",
    "        image_features = self.cnn(image)\n",
    "        \n",
    "        # Concatenate image features and tabular data\n",
    "        combined_features = torch.cat((image_features, tabular), dim=1)\n",
    "        \n",
    "        # Pass through fully connected layers\n",
    "        x = self.relu(self.fc1(combined_features))\n",
    "        x = self.dropout(x)\n",
    "        x = self.relu(self.fc2(x))\n",
    "        x = self.dropout(x)\n",
    "        x = self.fc3(x)\n",
    "        \n",
    "        return x"
   ]
  },
  {
   "cell_type": "code",
   "execution_count": 762,
   "metadata": {
    "execution": {
     "iopub.execute_input": "2025-02-01T23:26:44.098165Z",
     "iopub.status.busy": "2025-02-01T23:26:44.097848Z",
     "iopub.status.idle": "2025-02-01T23:26:44.146581Z",
     "shell.execute_reply": "2025-02-01T23:26:44.145638Z",
     "shell.execute_reply.started": "2025-02-01T23:26:44.098131Z"
    },
    "trusted": true
   },
   "outputs": [
    {
     "name": "stdout",
     "output_type": "stream",
     "text": [
      "Linear Regression Validation MSE: 1122940.5107\n"
     ]
    }
   ],
   "source": [
    "from sklearn.linear_model import LinearRegression\n",
    "from sklearn.metrics import mean_squared_error\n",
    "# Create and train the linear regression model for comparison\n",
    "linear_reg = LinearRegression()\n",
    "# Log transform target for better results (yes I should've used TargetTransformRegressor; seemed like overkill)\n",
    "linear_reg.fit(X_train.drop('image_path', axis=1), np.log1p(y_train))\n",
    "\n",
    "# Predict on the validation set\n",
    "y_pred = np.expm1(linear_reg.predict(X_test.drop('image_path', axis=1)))\n",
    "\n",
    "# Calculate and print the MSE\n",
    "mse = mean_squared_error(y_test, y_pred)\n",
    "print(f'Linear Regression Validation MSE: {mse:.4f}')"
   ]
  },
  {
   "cell_type": "code",
   "execution_count": 763,
   "metadata": {
    "execution": {
     "iopub.execute_input": "2025-02-01T23:26:44.148096Z",
     "iopub.status.busy": "2025-02-01T23:26:44.147727Z",
     "iopub.status.idle": "2025-02-01T23:36:01.559005Z",
     "shell.execute_reply": "2025-02-01T23:36:01.557694Z",
     "shell.execute_reply.started": "2025-02-01T23:26:44.148060Z"
    },
    "trusted": true
   },
   "outputs": [
    {
     "name": "stderr",
     "output_type": "stream",
     "text": [
      "Epoch 1 Training: 100%|██████████| 153/153 [00:07<00:00, 20.90it/s]\n"
     ]
    },
    {
     "name": "stdout",
     "output_type": "stream",
     "text": [
      "Epoch [1/200], Training Loss: 13996447.0758\n"
     ]
    },
    {
     "name": "stderr",
     "output_type": "stream",
     "text": [
      "Epoch 1 Validation: 100%|██████████| 39/39 [00:02<00:00, 17.94it/s]\n"
     ]
    },
    {
     "name": "stdout",
     "output_type": "stream",
     "text": [
      "Epoch [1/200], Validation Loss: 10794657.4071\n",
      "Best model saved with validation loss: 10794657.4071\n"
     ]
    },
    {
     "name": "stderr",
     "output_type": "stream",
     "text": [
      "Epoch 2 Training: 100%|██████████| 153/153 [00:07<00:00, 20.99it/s]\n"
     ]
    },
    {
     "name": "stdout",
     "output_type": "stream",
     "text": [
      "Epoch [2/200], Training Loss: 11049952.7045\n"
     ]
    },
    {
     "name": "stderr",
     "output_type": "stream",
     "text": [
      "Epoch 2 Validation: 100%|██████████| 39/39 [00:02<00:00, 18.86it/s]\n"
     ]
    },
    {
     "name": "stdout",
     "output_type": "stream",
     "text": [
      "Epoch [2/200], Validation Loss: 5694619.8826\n",
      "Best model saved with validation loss: 5694619.8826\n"
     ]
    },
    {
     "name": "stderr",
     "output_type": "stream",
     "text": [
      "Epoch 3 Training: 100%|██████████| 153/153 [00:07<00:00, 21.75it/s]\n"
     ]
    },
    {
     "name": "stdout",
     "output_type": "stream",
     "text": [
      "Epoch [3/200], Training Loss: 6104090.3349\n"
     ]
    },
    {
     "name": "stderr",
     "output_type": "stream",
     "text": [
      "Epoch 3 Validation: 100%|██████████| 39/39 [00:01<00:00, 20.69it/s]\n"
     ]
    },
    {
     "name": "stdout",
     "output_type": "stream",
     "text": [
      "Epoch [3/200], Validation Loss: 3717068.2314\n",
      "Best model saved with validation loss: 3717068.2314\n"
     ]
    },
    {
     "name": "stderr",
     "output_type": "stream",
     "text": [
      "Epoch 4 Training: 100%|██████████| 153/153 [00:07<00:00, 21.64it/s]\n"
     ]
    },
    {
     "name": "stdout",
     "output_type": "stream",
     "text": [
      "Epoch [4/200], Training Loss: 4901916.6417\n"
     ]
    },
    {
     "name": "stderr",
     "output_type": "stream",
     "text": [
      "Epoch 4 Validation: 100%|██████████| 39/39 [00:01<00:00, 20.61it/s]\n"
     ]
    },
    {
     "name": "stdout",
     "output_type": "stream",
     "text": [
      "Epoch [4/200], Validation Loss: 2957322.2364\n",
      "Best model saved with validation loss: 2957322.2364\n"
     ]
    },
    {
     "name": "stderr",
     "output_type": "stream",
     "text": [
      "Epoch 5 Training: 100%|██████████| 153/153 [00:07<00:00, 21.48it/s]\n"
     ]
    },
    {
     "name": "stdout",
     "output_type": "stream",
     "text": [
      "Epoch [5/200], Training Loss: 4156619.4808\n"
     ]
    },
    {
     "name": "stderr",
     "output_type": "stream",
     "text": [
      "Epoch 5 Validation: 100%|██████████| 39/39 [00:01<00:00, 20.39it/s]\n"
     ]
    },
    {
     "name": "stdout",
     "output_type": "stream",
     "text": [
      "Epoch [5/200], Validation Loss: 2119772.6823\n",
      "Best model saved with validation loss: 2119772.6823\n"
     ]
    },
    {
     "name": "stderr",
     "output_type": "stream",
     "text": [
      "Epoch 6 Training: 100%|██████████| 153/153 [00:07<00:00, 20.00it/s]\n"
     ]
    },
    {
     "name": "stdout",
     "output_type": "stream",
     "text": [
      "Epoch [6/200], Training Loss: 3074175.2973\n"
     ]
    },
    {
     "name": "stderr",
     "output_type": "stream",
     "text": [
      "Epoch 6 Validation: 100%|██████████| 39/39 [00:01<00:00, 19.75it/s]\n"
     ]
    },
    {
     "name": "stdout",
     "output_type": "stream",
     "text": [
      "Epoch [6/200], Validation Loss: 2460914.9724\n"
     ]
    },
    {
     "name": "stderr",
     "output_type": "stream",
     "text": [
      "Epoch 7 Training: 100%|██████████| 153/153 [00:07<00:00, 20.86it/s]\n"
     ]
    },
    {
     "name": "stdout",
     "output_type": "stream",
     "text": [
      "Epoch [7/200], Training Loss: 3928370.3592\n"
     ]
    },
    {
     "name": "stderr",
     "output_type": "stream",
     "text": [
      "Epoch 7 Validation: 100%|██████████| 39/39 [00:01<00:00, 19.56it/s]\n"
     ]
    },
    {
     "name": "stdout",
     "output_type": "stream",
     "text": [
      "Epoch [7/200], Validation Loss: 2227040.1146\n"
     ]
    },
    {
     "name": "stderr",
     "output_type": "stream",
     "text": [
      "Epoch 8 Training: 100%|██████████| 153/153 [00:07<00:00, 20.54it/s]\n"
     ]
    },
    {
     "name": "stdout",
     "output_type": "stream",
     "text": [
      "Epoch [8/200], Training Loss: 2684601.4630\n"
     ]
    },
    {
     "name": "stderr",
     "output_type": "stream",
     "text": [
      "Epoch 8 Validation: 100%|██████████| 39/39 [00:02<00:00, 19.27it/s]\n"
     ]
    },
    {
     "name": "stdout",
     "output_type": "stream",
     "text": [
      "Epoch [8/200], Validation Loss: 1683350.0397\n",
      "Best model saved with validation loss: 1683350.0397\n"
     ]
    },
    {
     "name": "stderr",
     "output_type": "stream",
     "text": [
      "Epoch 9 Training: 100%|██████████| 153/153 [00:08<00:00, 18.65it/s]\n"
     ]
    },
    {
     "name": "stdout",
     "output_type": "stream",
     "text": [
      "Epoch [9/200], Training Loss: 2726006.4460\n"
     ]
    },
    {
     "name": "stderr",
     "output_type": "stream",
     "text": [
      "Epoch 9 Validation: 100%|██████████| 39/39 [00:02<00:00, 19.37it/s]\n"
     ]
    },
    {
     "name": "stdout",
     "output_type": "stream",
     "text": [
      "Epoch [9/200], Validation Loss: 2525887.3405\n"
     ]
    },
    {
     "name": "stderr",
     "output_type": "stream",
     "text": [
      "Epoch 10 Training: 100%|██████████| 153/153 [00:07<00:00, 20.67it/s]\n"
     ]
    },
    {
     "name": "stdout",
     "output_type": "stream",
     "text": [
      "Epoch [10/200], Training Loss: 2748870.7608\n"
     ]
    },
    {
     "name": "stderr",
     "output_type": "stream",
     "text": [
      "Epoch 10 Validation: 100%|██████████| 39/39 [00:02<00:00, 19.10it/s]\n"
     ]
    },
    {
     "name": "stdout",
     "output_type": "stream",
     "text": [
      "Epoch [10/200], Validation Loss: 2540961.1080\n"
     ]
    },
    {
     "name": "stderr",
     "output_type": "stream",
     "text": [
      "Epoch 11 Training: 100%|██████████| 153/153 [00:07<00:00, 19.97it/s]\n"
     ]
    },
    {
     "name": "stdout",
     "output_type": "stream",
     "text": [
      "Epoch [11/200], Training Loss: 2648466.6401\n"
     ]
    },
    {
     "name": "stderr",
     "output_type": "stream",
     "text": [
      "Epoch 11 Validation: 100%|██████████| 39/39 [00:02<00:00, 18.80it/s]\n"
     ]
    },
    {
     "name": "stdout",
     "output_type": "stream",
     "text": [
      "Epoch [11/200], Validation Loss: 2239412.0773\n"
     ]
    },
    {
     "name": "stderr",
     "output_type": "stream",
     "text": [
      "Epoch 12 Training: 100%|██████████| 153/153 [00:07<00:00, 20.05it/s]\n"
     ]
    },
    {
     "name": "stdout",
     "output_type": "stream",
     "text": [
      "Epoch [12/200], Training Loss: 3565657.6912\n"
     ]
    },
    {
     "name": "stderr",
     "output_type": "stream",
     "text": [
      "Epoch 12 Validation: 100%|██████████| 39/39 [00:02<00:00, 15.75it/s]\n"
     ]
    },
    {
     "name": "stdout",
     "output_type": "stream",
     "text": [
      "Epoch [12/200], Validation Loss: 1589971.8518\n",
      "Best model saved with validation loss: 1589971.8518\n"
     ]
    },
    {
     "name": "stderr",
     "output_type": "stream",
     "text": [
      "Epoch 13 Training: 100%|██████████| 153/153 [00:08<00:00, 18.52it/s]\n"
     ]
    },
    {
     "name": "stdout",
     "output_type": "stream",
     "text": [
      "Epoch [13/200], Training Loss: 3081293.6133\n"
     ]
    },
    {
     "name": "stderr",
     "output_type": "stream",
     "text": [
      "Epoch 13 Validation: 100%|██████████| 39/39 [00:02<00:00, 18.58it/s]\n"
     ]
    },
    {
     "name": "stdout",
     "output_type": "stream",
     "text": [
      "Epoch [13/200], Validation Loss: 1960530.5873\n"
     ]
    },
    {
     "name": "stderr",
     "output_type": "stream",
     "text": [
      "Epoch 14 Training: 100%|██████████| 153/153 [00:07<00:00, 19.60it/s]\n"
     ]
    },
    {
     "name": "stdout",
     "output_type": "stream",
     "text": [
      "Epoch [14/200], Training Loss: 2003700.8205\n"
     ]
    },
    {
     "name": "stderr",
     "output_type": "stream",
     "text": [
      "Epoch 14 Validation: 100%|██████████| 39/39 [00:02<00:00, 18.77it/s]\n"
     ]
    },
    {
     "name": "stdout",
     "output_type": "stream",
     "text": [
      "Epoch [14/200], Validation Loss: 1380617.6596\n",
      "Best model saved with validation loss: 1380617.6596\n"
     ]
    },
    {
     "name": "stderr",
     "output_type": "stream",
     "text": [
      "Epoch 15 Training: 100%|██████████| 153/153 [00:07<00:00, 19.86it/s]\n"
     ]
    },
    {
     "name": "stdout",
     "output_type": "stream",
     "text": [
      "Epoch [15/200], Training Loss: 3157279.5643\n"
     ]
    },
    {
     "name": "stderr",
     "output_type": "stream",
     "text": [
      "Epoch 15 Validation: 100%|██████████| 39/39 [00:02<00:00, 18.72it/s]\n"
     ]
    },
    {
     "name": "stdout",
     "output_type": "stream",
     "text": [
      "Epoch [15/200], Validation Loss: 2218659.2812\n"
     ]
    },
    {
     "name": "stderr",
     "output_type": "stream",
     "text": [
      "Epoch 16 Training: 100%|██████████| 153/153 [00:08<00:00, 18.37it/s]\n"
     ]
    },
    {
     "name": "stdout",
     "output_type": "stream",
     "text": [
      "Epoch [16/200], Training Loss: 2500916.8176\n"
     ]
    },
    {
     "name": "stderr",
     "output_type": "stream",
     "text": [
      "Epoch 16 Validation: 100%|██████████| 39/39 [00:02<00:00, 19.23it/s]\n"
     ]
    },
    {
     "name": "stdout",
     "output_type": "stream",
     "text": [
      "Epoch [16/200], Validation Loss: 1441773.0249\n"
     ]
    },
    {
     "name": "stderr",
     "output_type": "stream",
     "text": [
      "Epoch 17 Training: 100%|██████████| 153/153 [00:07<00:00, 20.20it/s]\n"
     ]
    },
    {
     "name": "stdout",
     "output_type": "stream",
     "text": [
      "Epoch [17/200], Training Loss: 2385466.9929\n"
     ]
    },
    {
     "name": "stderr",
     "output_type": "stream",
     "text": [
      "Epoch 17 Validation: 100%|██████████| 39/39 [00:02<00:00, 19.43it/s]\n"
     ]
    },
    {
     "name": "stdout",
     "output_type": "stream",
     "text": [
      "Epoch [17/200], Validation Loss: 3764508.4435\n"
     ]
    },
    {
     "name": "stderr",
     "output_type": "stream",
     "text": [
      "Epoch 18 Training: 100%|██████████| 153/153 [00:07<00:00, 20.11it/s]\n"
     ]
    },
    {
     "name": "stdout",
     "output_type": "stream",
     "text": [
      "Epoch [18/200], Training Loss: 2861938.6363\n"
     ]
    },
    {
     "name": "stderr",
     "output_type": "stream",
     "text": [
      "Epoch 18 Validation: 100%|██████████| 39/39 [00:02<00:00, 18.89it/s]\n"
     ]
    },
    {
     "name": "stdout",
     "output_type": "stream",
     "text": [
      "Epoch [18/200], Validation Loss: 1922675.2784\n"
     ]
    },
    {
     "name": "stderr",
     "output_type": "stream",
     "text": [
      "Epoch 19 Training: 100%|██████████| 153/153 [00:08<00:00, 18.62it/s]\n"
     ]
    },
    {
     "name": "stdout",
     "output_type": "stream",
     "text": [
      "Epoch [19/200], Training Loss: 2616542.4901\n"
     ]
    },
    {
     "name": "stderr",
     "output_type": "stream",
     "text": [
      "Epoch 19 Validation: 100%|██████████| 39/39 [00:02<00:00, 19.29it/s]\n"
     ]
    },
    {
     "name": "stdout",
     "output_type": "stream",
     "text": [
      "Epoch [19/200], Validation Loss: 1585202.4665\n"
     ]
    },
    {
     "name": "stderr",
     "output_type": "stream",
     "text": [
      "Epoch 20 Training: 100%|██████████| 153/153 [00:07<00:00, 19.83it/s]\n"
     ]
    },
    {
     "name": "stdout",
     "output_type": "stream",
     "text": [
      "Epoch [20/200], Training Loss: 2447393.1539\n"
     ]
    },
    {
     "name": "stderr",
     "output_type": "stream",
     "text": [
      "Epoch 20 Validation: 100%|██████████| 39/39 [00:02<00:00, 18.69it/s]\n"
     ]
    },
    {
     "name": "stdout",
     "output_type": "stream",
     "text": [
      "Epoch [20/200], Validation Loss: 1872144.5004\n"
     ]
    },
    {
     "name": "stderr",
     "output_type": "stream",
     "text": [
      "Epoch 21 Training: 100%|██████████| 153/153 [00:07<00:00, 20.15it/s]\n"
     ]
    },
    {
     "name": "stdout",
     "output_type": "stream",
     "text": [
      "Epoch [21/200], Training Loss: 2424033.1498\n"
     ]
    },
    {
     "name": "stderr",
     "output_type": "stream",
     "text": [
      "Epoch 21 Validation: 100%|██████████| 39/39 [00:02<00:00, 18.46it/s]\n"
     ]
    },
    {
     "name": "stdout",
     "output_type": "stream",
     "text": [
      "Epoch [21/200], Validation Loss: 1572784.0633\n"
     ]
    },
    {
     "name": "stderr",
     "output_type": "stream",
     "text": [
      "Epoch 22 Training: 100%|██████████| 153/153 [00:08<00:00, 18.95it/s]\n"
     ]
    },
    {
     "name": "stdout",
     "output_type": "stream",
     "text": [
      "Epoch [22/200], Training Loss: 2323904.9326\n"
     ]
    },
    {
     "name": "stderr",
     "output_type": "stream",
     "text": [
      "Epoch 22 Validation: 100%|██████████| 39/39 [00:02<00:00, 18.90it/s]\n"
     ]
    },
    {
     "name": "stdout",
     "output_type": "stream",
     "text": [
      "Epoch [22/200], Validation Loss: 1989661.9463\n"
     ]
    },
    {
     "name": "stderr",
     "output_type": "stream",
     "text": [
      "Epoch 23 Training: 100%|██████████| 153/153 [00:07<00:00, 20.25it/s]\n"
     ]
    },
    {
     "name": "stdout",
     "output_type": "stream",
     "text": [
      "Epoch [23/200], Training Loss: 2770739.4922\n"
     ]
    },
    {
     "name": "stderr",
     "output_type": "stream",
     "text": [
      "Epoch 23 Validation: 100%|██████████| 39/39 [00:02<00:00, 18.55it/s]\n"
     ]
    },
    {
     "name": "stdout",
     "output_type": "stream",
     "text": [
      "Epoch [23/200], Validation Loss: 2681506.8259\n"
     ]
    },
    {
     "name": "stderr",
     "output_type": "stream",
     "text": [
      "Epoch 24 Training: 100%|██████████| 153/153 [00:07<00:00, 19.53it/s]\n"
     ]
    },
    {
     "name": "stdout",
     "output_type": "stream",
     "text": [
      "Epoch [24/200], Training Loss: 2726074.1484\n"
     ]
    },
    {
     "name": "stderr",
     "output_type": "stream",
     "text": [
      "Epoch 24 Validation: 100%|██████████| 39/39 [00:02<00:00, 18.11it/s]\n"
     ]
    },
    {
     "name": "stdout",
     "output_type": "stream",
     "text": [
      "Epoch [24/200], Validation Loss: 1368677.3145\n",
      "Best model saved with validation loss: 1368677.3145\n"
     ]
    },
    {
     "name": "stderr",
     "output_type": "stream",
     "text": [
      "Epoch 25 Training: 100%|██████████| 153/153 [00:07<00:00, 19.79it/s]\n"
     ]
    },
    {
     "name": "stdout",
     "output_type": "stream",
     "text": [
      "Epoch [25/200], Training Loss: 2424381.9829\n"
     ]
    },
    {
     "name": "stderr",
     "output_type": "stream",
     "text": [
      "Epoch 25 Validation: 100%|██████████| 39/39 [00:02<00:00, 15.58it/s]\n"
     ]
    },
    {
     "name": "stdout",
     "output_type": "stream",
     "text": [
      "Epoch [25/200], Validation Loss: 1211688.0705\n",
      "Best model saved with validation loss: 1211688.0705\n"
     ]
    },
    {
     "name": "stderr",
     "output_type": "stream",
     "text": [
      "Epoch 26 Training: 100%|██████████| 153/153 [00:07<00:00, 20.03it/s]\n"
     ]
    },
    {
     "name": "stdout",
     "output_type": "stream",
     "text": [
      "Epoch [26/200], Training Loss: 1642689.3986\n"
     ]
    },
    {
     "name": "stderr",
     "output_type": "stream",
     "text": [
      "Epoch 26 Validation: 100%|██████████| 39/39 [00:02<00:00, 18.58it/s]\n"
     ]
    },
    {
     "name": "stdout",
     "output_type": "stream",
     "text": [
      "Epoch [26/200], Validation Loss: 890386.9343\n",
      "Best model saved with validation loss: 890386.9343\n"
     ]
    },
    {
     "name": "stderr",
     "output_type": "stream",
     "text": [
      "Epoch 27 Training: 100%|██████████| 153/153 [00:07<00:00, 19.88it/s]\n"
     ]
    },
    {
     "name": "stdout",
     "output_type": "stream",
     "text": [
      "Epoch [27/200], Training Loss: 2183668.7127\n"
     ]
    },
    {
     "name": "stderr",
     "output_type": "stream",
     "text": [
      "Epoch 27 Validation: 100%|██████████| 39/39 [00:02<00:00, 18.31it/s]\n"
     ]
    },
    {
     "name": "stdout",
     "output_type": "stream",
     "text": [
      "Epoch [27/200], Validation Loss: 1132812.1280\n"
     ]
    },
    {
     "name": "stderr",
     "output_type": "stream",
     "text": [
      "Epoch 28 Training: 100%|██████████| 153/153 [00:07<00:00, 20.15it/s]\n"
     ]
    },
    {
     "name": "stdout",
     "output_type": "stream",
     "text": [
      "Epoch [28/200], Training Loss: 2011624.9277\n"
     ]
    },
    {
     "name": "stderr",
     "output_type": "stream",
     "text": [
      "Epoch 28 Validation: 100%|██████████| 39/39 [00:02<00:00, 18.95it/s]\n"
     ]
    },
    {
     "name": "stdout",
     "output_type": "stream",
     "text": [
      "Epoch [28/200], Validation Loss: 1083384.3330\n"
     ]
    },
    {
     "name": "stderr",
     "output_type": "stream",
     "text": [
      "Epoch 29 Training: 100%|██████████| 153/153 [00:08<00:00, 18.72it/s]\n"
     ]
    },
    {
     "name": "stdout",
     "output_type": "stream",
     "text": [
      "Epoch [29/200], Training Loss: 1960237.1267\n"
     ]
    },
    {
     "name": "stderr",
     "output_type": "stream",
     "text": [
      "Epoch 29 Validation: 100%|██████████| 39/39 [00:02<00:00, 19.08it/s]\n"
     ]
    },
    {
     "name": "stdout",
     "output_type": "stream",
     "text": [
      "Epoch [29/200], Validation Loss: 988296.9457\n"
     ]
    },
    {
     "name": "stderr",
     "output_type": "stream",
     "text": [
      "Epoch 30 Training: 100%|██████████| 153/153 [00:07<00:00, 20.01it/s]\n"
     ]
    },
    {
     "name": "stdout",
     "output_type": "stream",
     "text": [
      "Epoch [30/200], Training Loss: 1911908.2495\n"
     ]
    },
    {
     "name": "stderr",
     "output_type": "stream",
     "text": [
      "Epoch 30 Validation: 100%|██████████| 39/39 [00:02<00:00, 18.35it/s]\n"
     ]
    },
    {
     "name": "stdout",
     "output_type": "stream",
     "text": [
      "Epoch [30/200], Validation Loss: 982369.4189\n"
     ]
    },
    {
     "name": "stderr",
     "output_type": "stream",
     "text": [
      "Epoch 31 Training: 100%|██████████| 153/153 [00:07<00:00, 20.01it/s]\n"
     ]
    },
    {
     "name": "stdout",
     "output_type": "stream",
     "text": [
      "Epoch [31/200], Training Loss: 1755678.8448\n"
     ]
    },
    {
     "name": "stderr",
     "output_type": "stream",
     "text": [
      "Epoch 31 Validation: 100%|██████████| 39/39 [00:02<00:00, 18.88it/s]\n"
     ]
    },
    {
     "name": "stdout",
     "output_type": "stream",
     "text": [
      "Epoch [31/200], Validation Loss: 940324.1210\n"
     ]
    },
    {
     "name": "stderr",
     "output_type": "stream",
     "text": [
      "Epoch 32 Training: 100%|██████████| 153/153 [00:08<00:00, 18.94it/s]\n"
     ]
    },
    {
     "name": "stdout",
     "output_type": "stream",
     "text": [
      "Epoch [32/200], Training Loss: 1746853.6089\n"
     ]
    },
    {
     "name": "stderr",
     "output_type": "stream",
     "text": [
      "Epoch 32 Validation: 100%|██████████| 39/39 [00:02<00:00, 18.87it/s]\n"
     ]
    },
    {
     "name": "stdout",
     "output_type": "stream",
     "text": [
      "Epoch [32/200], Validation Loss: 1026988.7432\n"
     ]
    },
    {
     "name": "stderr",
     "output_type": "stream",
     "text": [
      "Epoch 33 Training: 100%|██████████| 153/153 [00:07<00:00, 20.20it/s]\n"
     ]
    },
    {
     "name": "stdout",
     "output_type": "stream",
     "text": [
      "Epoch [33/200], Training Loss: 2051519.2319\n"
     ]
    },
    {
     "name": "stderr",
     "output_type": "stream",
     "text": [
      "Epoch 33 Validation: 100%|██████████| 39/39 [00:02<00:00, 18.11it/s]\n"
     ]
    },
    {
     "name": "stdout",
     "output_type": "stream",
     "text": [
      "Epoch [33/200], Validation Loss: 1224297.9655\n"
     ]
    },
    {
     "name": "stderr",
     "output_type": "stream",
     "text": [
      "Epoch 34 Training: 100%|██████████| 153/153 [00:07<00:00, 20.51it/s]\n"
     ]
    },
    {
     "name": "stdout",
     "output_type": "stream",
     "text": [
      "Epoch [34/200], Training Loss: 1735570.3002\n"
     ]
    },
    {
     "name": "stderr",
     "output_type": "stream",
     "text": [
      "Epoch 34 Validation: 100%|██████████| 39/39 [00:02<00:00, 18.94it/s]\n"
     ]
    },
    {
     "name": "stdout",
     "output_type": "stream",
     "text": [
      "Epoch [34/200], Validation Loss: 782439.9347\n",
      "Best model saved with validation loss: 782439.9347\n"
     ]
    },
    {
     "name": "stderr",
     "output_type": "stream",
     "text": [
      "Epoch 35 Training: 100%|██████████| 153/153 [00:07<00:00, 19.91it/s]\n"
     ]
    },
    {
     "name": "stdout",
     "output_type": "stream",
     "text": [
      "Epoch [35/200], Training Loss: 1788229.8585\n"
     ]
    },
    {
     "name": "stderr",
     "output_type": "stream",
     "text": [
      "Epoch 35 Validation: 100%|██████████| 39/39 [00:02<00:00, 16.79it/s]\n"
     ]
    },
    {
     "name": "stdout",
     "output_type": "stream",
     "text": [
      "Epoch [35/200], Validation Loss: 740577.3622\n",
      "Best model saved with validation loss: 740577.3622\n"
     ]
    },
    {
     "name": "stderr",
     "output_type": "stream",
     "text": [
      "Epoch 36 Training: 100%|██████████| 153/153 [00:07<00:00, 20.03it/s]\n"
     ]
    },
    {
     "name": "stdout",
     "output_type": "stream",
     "text": [
      "Epoch [36/200], Training Loss: 980085.4687\n"
     ]
    },
    {
     "name": "stderr",
     "output_type": "stream",
     "text": [
      "Epoch 36 Validation: 100%|██████████| 39/39 [00:02<00:00, 18.52it/s]\n"
     ]
    },
    {
     "name": "stdout",
     "output_type": "stream",
     "text": [
      "Epoch [36/200], Validation Loss: 1342017.0550\n"
     ]
    },
    {
     "name": "stderr",
     "output_type": "stream",
     "text": [
      "Epoch 37 Training: 100%|██████████| 153/153 [00:07<00:00, 20.27it/s]\n"
     ]
    },
    {
     "name": "stdout",
     "output_type": "stream",
     "text": [
      "Epoch [37/200], Training Loss: 2374603.6634\n"
     ]
    },
    {
     "name": "stderr",
     "output_type": "stream",
     "text": [
      "Epoch 37 Validation: 100%|██████████| 39/39 [00:02<00:00, 19.20it/s]\n"
     ]
    },
    {
     "name": "stdout",
     "output_type": "stream",
     "text": [
      "Epoch [37/200], Validation Loss: 534718.3438\n",
      "Best model saved with validation loss: 534718.3438\n"
     ]
    },
    {
     "name": "stderr",
     "output_type": "stream",
     "text": [
      "Epoch 38 Training: 100%|██████████| 153/153 [00:07<00:00, 19.95it/s]\n"
     ]
    },
    {
     "name": "stdout",
     "output_type": "stream",
     "text": [
      "Epoch [38/200], Training Loss: 1554222.7483\n"
     ]
    },
    {
     "name": "stderr",
     "output_type": "stream",
     "text": [
      "Epoch 38 Validation: 100%|██████████| 39/39 [00:01<00:00, 19.53it/s]\n"
     ]
    },
    {
     "name": "stdout",
     "output_type": "stream",
     "text": [
      "Epoch [38/200], Validation Loss: 762241.4562\n"
     ]
    },
    {
     "name": "stderr",
     "output_type": "stream",
     "text": [
      "Epoch 39 Training: 100%|██████████| 153/153 [00:08<00:00, 19.02it/s]\n"
     ]
    },
    {
     "name": "stdout",
     "output_type": "stream",
     "text": [
      "Epoch [39/200], Training Loss: 1299237.3941\n"
     ]
    },
    {
     "name": "stderr",
     "output_type": "stream",
     "text": [
      "Epoch 39 Validation: 100%|██████████| 39/39 [00:02<00:00, 19.21it/s]\n"
     ]
    },
    {
     "name": "stdout",
     "output_type": "stream",
     "text": [
      "Epoch [39/200], Validation Loss: 1358586.3269\n"
     ]
    },
    {
     "name": "stderr",
     "output_type": "stream",
     "text": [
      "Epoch 40 Training: 100%|██████████| 153/153 [00:07<00:00, 20.79it/s]\n"
     ]
    },
    {
     "name": "stdout",
     "output_type": "stream",
     "text": [
      "Epoch [40/200], Training Loss: 2275270.5127\n"
     ]
    },
    {
     "name": "stderr",
     "output_type": "stream",
     "text": [
      "Epoch 40 Validation: 100%|██████████| 39/39 [00:02<00:00, 19.47it/s]\n"
     ]
    },
    {
     "name": "stdout",
     "output_type": "stream",
     "text": [
      "Epoch [40/200], Validation Loss: 1197577.0501\n"
     ]
    },
    {
     "name": "stderr",
     "output_type": "stream",
     "text": [
      "Epoch 41 Training: 100%|██████████| 153/153 [00:07<00:00, 20.34it/s]\n"
     ]
    },
    {
     "name": "stdout",
     "output_type": "stream",
     "text": [
      "Epoch [41/200], Training Loss: 2278956.9834\n"
     ]
    },
    {
     "name": "stderr",
     "output_type": "stream",
     "text": [
      "Epoch 41 Validation: 100%|██████████| 39/39 [00:02<00:00, 19.45it/s]\n"
     ]
    },
    {
     "name": "stdout",
     "output_type": "stream",
     "text": [
      "Epoch [41/200], Validation Loss: 1601118.8160\n"
     ]
    },
    {
     "name": "stderr",
     "output_type": "stream",
     "text": [
      "Epoch 42 Training: 100%|██████████| 153/153 [00:07<00:00, 19.33it/s]\n"
     ]
    },
    {
     "name": "stdout",
     "output_type": "stream",
     "text": [
      "Epoch [42/200], Training Loss: 1391372.6800\n"
     ]
    },
    {
     "name": "stderr",
     "output_type": "stream",
     "text": [
      "Epoch 42 Validation: 100%|██████████| 39/39 [00:02<00:00, 18.78it/s]\n"
     ]
    },
    {
     "name": "stdout",
     "output_type": "stream",
     "text": [
      "Epoch [42/200], Validation Loss: 1382699.7099\n"
     ]
    },
    {
     "name": "stderr",
     "output_type": "stream",
     "text": [
      "Epoch 43 Training: 100%|██████████| 153/153 [00:07<00:00, 20.14it/s]\n"
     ]
    },
    {
     "name": "stdout",
     "output_type": "stream",
     "text": [
      "Epoch [43/200], Training Loss: 1720218.5287\n"
     ]
    },
    {
     "name": "stderr",
     "output_type": "stream",
     "text": [
      "Epoch 43 Validation: 100%|██████████| 39/39 [00:01<00:00, 19.71it/s]\n"
     ]
    },
    {
     "name": "stdout",
     "output_type": "stream",
     "text": [
      "Epoch [43/200], Validation Loss: 1407229.5164\n"
     ]
    },
    {
     "name": "stderr",
     "output_type": "stream",
     "text": [
      "Epoch 44 Training: 100%|██████████| 153/153 [00:07<00:00, 20.43it/s]\n"
     ]
    },
    {
     "name": "stdout",
     "output_type": "stream",
     "text": [
      "Epoch [44/200], Training Loss: 1678953.0171\n"
     ]
    },
    {
     "name": "stderr",
     "output_type": "stream",
     "text": [
      "Epoch 44 Validation: 100%|██████████| 39/39 [00:01<00:00, 19.57it/s]\n"
     ]
    },
    {
     "name": "stdout",
     "output_type": "stream",
     "text": [
      "Epoch [44/200], Validation Loss: 1062396.6126\n"
     ]
    },
    {
     "name": "stderr",
     "output_type": "stream",
     "text": [
      "Epoch 45 Training: 100%|██████████| 153/153 [00:07<00:00, 19.79it/s]\n"
     ]
    },
    {
     "name": "stdout",
     "output_type": "stream",
     "text": [
      "Epoch [45/200], Training Loss: 1292318.5841\n"
     ]
    },
    {
     "name": "stderr",
     "output_type": "stream",
     "text": [
      "Epoch 45 Validation: 100%|██████████| 39/39 [00:02<00:00, 17.56it/s]\n"
     ]
    },
    {
     "name": "stdout",
     "output_type": "stream",
     "text": [
      "Epoch [45/200], Validation Loss: 1259188.4834\n"
     ]
    },
    {
     "name": "stderr",
     "output_type": "stream",
     "text": [
      "Epoch 46 Training: 100%|██████████| 153/153 [00:07<00:00, 20.32it/s]\n"
     ]
    },
    {
     "name": "stdout",
     "output_type": "stream",
     "text": [
      "Epoch [46/200], Training Loss: 1118178.1434\n"
     ]
    },
    {
     "name": "stderr",
     "output_type": "stream",
     "text": [
      "Epoch 46 Validation: 100%|██████████| 39/39 [00:02<00:00, 19.08it/s]\n"
     ]
    },
    {
     "name": "stdout",
     "output_type": "stream",
     "text": [
      "Epoch [46/200], Validation Loss: 1266976.4968\n"
     ]
    },
    {
     "name": "stderr",
     "output_type": "stream",
     "text": [
      "Epoch 47 Training: 100%|██████████| 153/153 [00:07<00:00, 20.34it/s]\n"
     ]
    },
    {
     "name": "stdout",
     "output_type": "stream",
     "text": [
      "Epoch [47/200], Training Loss: 1283764.2174\n"
     ]
    },
    {
     "name": "stderr",
     "output_type": "stream",
     "text": [
      "Epoch 47 Validation: 100%|██████████| 39/39 [00:02<00:00, 19.05it/s]\n"
     ]
    },
    {
     "name": "stdout",
     "output_type": "stream",
     "text": [
      "Epoch [47/200], Validation Loss: 1050986.1021\n"
     ]
    },
    {
     "name": "stderr",
     "output_type": "stream",
     "text": [
      "Epoch 48 Training: 100%|██████████| 153/153 [00:08<00:00, 19.03it/s]\n"
     ]
    },
    {
     "name": "stdout",
     "output_type": "stream",
     "text": [
      "Epoch [48/200], Training Loss: 1530946.4475\n"
     ]
    },
    {
     "name": "stderr",
     "output_type": "stream",
     "text": [
      "Epoch 48 Validation: 100%|██████████| 39/39 [00:02<00:00, 16.46it/s]\n"
     ]
    },
    {
     "name": "stdout",
     "output_type": "stream",
     "text": [
      "Epoch [48/200], Validation Loss: 911913.5564\n"
     ]
    },
    {
     "name": "stderr",
     "output_type": "stream",
     "text": [
      "Epoch 49 Training: 100%|██████████| 153/153 [00:07<00:00, 19.13it/s]\n"
     ]
    },
    {
     "name": "stdout",
     "output_type": "stream",
     "text": [
      "Epoch [49/200], Training Loss: 943121.1971\n"
     ]
    },
    {
     "name": "stderr",
     "output_type": "stream",
     "text": [
      "Epoch 49 Validation: 100%|██████████| 39/39 [00:02<00:00, 19.21it/s]\n"
     ]
    },
    {
     "name": "stdout",
     "output_type": "stream",
     "text": [
      "Epoch [49/200], Validation Loss: 1054366.8728\n"
     ]
    },
    {
     "name": "stderr",
     "output_type": "stream",
     "text": [
      "Epoch 50 Training: 100%|██████████| 153/153 [00:07<00:00, 19.93it/s]\n"
     ]
    },
    {
     "name": "stdout",
     "output_type": "stream",
     "text": [
      "Epoch [50/200], Training Loss: 1268356.8828\n"
     ]
    },
    {
     "name": "stderr",
     "output_type": "stream",
     "text": [
      "Epoch 50 Validation: 100%|██████████| 39/39 [00:02<00:00, 19.19it/s]\n"
     ]
    },
    {
     "name": "stdout",
     "output_type": "stream",
     "text": [
      "Epoch [50/200], Validation Loss: 1094627.9611\n"
     ]
    },
    {
     "name": "stderr",
     "output_type": "stream",
     "text": [
      "Epoch 51 Training: 100%|██████████| 153/153 [00:07<00:00, 20.25it/s]\n"
     ]
    },
    {
     "name": "stdout",
     "output_type": "stream",
     "text": [
      "Epoch [51/200], Training Loss: 1581124.0380\n"
     ]
    },
    {
     "name": "stderr",
     "output_type": "stream",
     "text": [
      "Epoch 51 Validation: 100%|██████████| 39/39 [00:01<00:00, 19.55it/s]\n"
     ]
    },
    {
     "name": "stdout",
     "output_type": "stream",
     "text": [
      "Epoch [51/200], Validation Loss: 1042362.3695\n"
     ]
    },
    {
     "name": "stderr",
     "output_type": "stream",
     "text": [
      "Epoch 52 Training: 100%|██████████| 153/153 [00:07<00:00, 19.36it/s]\n"
     ]
    },
    {
     "name": "stdout",
     "output_type": "stream",
     "text": [
      "Epoch [52/200], Training Loss: 1366285.0889\n"
     ]
    },
    {
     "name": "stderr",
     "output_type": "stream",
     "text": [
      "Epoch 52 Validation: 100%|██████████| 39/39 [00:01<00:00, 19.69it/s]\n"
     ]
    },
    {
     "name": "stdout",
     "output_type": "stream",
     "text": [
      "Epoch [52/200], Validation Loss: 1041001.6987\n"
     ]
    },
    {
     "name": "stderr",
     "output_type": "stream",
     "text": [
      "Epoch 53 Training: 100%|██████████| 153/153 [00:07<00:00, 20.87it/s]\n"
     ]
    },
    {
     "name": "stdout",
     "output_type": "stream",
     "text": [
      "Epoch [53/200], Training Loss: 1591837.5813\n"
     ]
    },
    {
     "name": "stderr",
     "output_type": "stream",
     "text": [
      "Epoch 53 Validation: 100%|██████████| 39/39 [00:01<00:00, 19.72it/s]\n"
     ]
    },
    {
     "name": "stdout",
     "output_type": "stream",
     "text": [
      "Epoch [53/200], Validation Loss: 1120086.7197\n"
     ]
    },
    {
     "name": "stderr",
     "output_type": "stream",
     "text": [
      "Epoch 54 Training: 100%|██████████| 153/153 [00:07<00:00, 20.80it/s]\n"
     ]
    },
    {
     "name": "stdout",
     "output_type": "stream",
     "text": [
      "Epoch [54/200], Training Loss: 989042.5936\n"
     ]
    },
    {
     "name": "stderr",
     "output_type": "stream",
     "text": [
      "Epoch 54 Validation: 100%|██████████| 39/39 [00:02<00:00, 19.39it/s]\n"
     ]
    },
    {
     "name": "stdout",
     "output_type": "stream",
     "text": [
      "Epoch [54/200], Validation Loss: 916025.8245\n"
     ]
    },
    {
     "name": "stderr",
     "output_type": "stream",
     "text": [
      "Epoch 55 Training: 100%|██████████| 153/153 [00:07<00:00, 19.77it/s]\n"
     ]
    },
    {
     "name": "stdout",
     "output_type": "stream",
     "text": [
      "Epoch [55/200], Training Loss: 1548646.0076\n"
     ]
    },
    {
     "name": "stderr",
     "output_type": "stream",
     "text": [
      "Epoch 55 Validation: 100%|██████████| 39/39 [00:02<00:00, 17.95it/s]\n"
     ]
    },
    {
     "name": "stdout",
     "output_type": "stream",
     "text": [
      "Epoch [55/200], Validation Loss: 1070755.2394\n"
     ]
    },
    {
     "name": "stderr",
     "output_type": "stream",
     "text": [
      "Epoch 56 Training: 100%|██████████| 153/153 [00:07<00:00, 20.21it/s]\n"
     ]
    },
    {
     "name": "stdout",
     "output_type": "stream",
     "text": [
      "Epoch [56/200], Training Loss: 2062890.0611\n"
     ]
    },
    {
     "name": "stderr",
     "output_type": "stream",
     "text": [
      "Epoch 56 Validation: 100%|██████████| 39/39 [00:02<00:00, 19.42it/s]\n"
     ]
    },
    {
     "name": "stdout",
     "output_type": "stream",
     "text": [
      "Epoch [56/200], Validation Loss: 1009755.2330\n"
     ]
    },
    {
     "name": "stderr",
     "output_type": "stream",
     "text": [
      "Epoch 57 Training: 100%|██████████| 153/153 [00:07<00:00, 20.18it/s]\n"
     ]
    },
    {
     "name": "stdout",
     "output_type": "stream",
     "text": [
      "Epoch [57/200], Training Loss: 1003020.9626\n"
     ]
    },
    {
     "name": "stderr",
     "output_type": "stream",
     "text": [
      "Epoch 57 Validation: 100%|██████████| 39/39 [00:02<00:00, 19.40it/s]"
     ]
    },
    {
     "name": "stdout",
     "output_type": "stream",
     "text": [
      "Epoch [57/200], Validation Loss: 761389.0485\n",
      "Early stopping triggered at epoch 57\n",
      "Best MSE:534718.3438\n"
     ]
    },
    {
     "name": "stderr",
     "output_type": "stream",
     "text": [
      "\n"
     ]
    }
   ],
   "source": [
    "from tqdm import tqdm\n",
    "\n",
    "num_tabular_features = 52\n",
    "num_classes = 1\n",
    "\n",
    "model = CombinedModel(num_tabular_features, num_classes).to(device)\n",
    "\n",
    "# Define loss function and optimizer\n",
    "criterion = nn.MSELoss()\n",
    "optimizer = optim.AdamW(model.parameters(), lr=0.01)\n",
    "\n",
    "# Early stopping parameters\n",
    "patience = 20\n",
    "best_val_loss = float('inf')\n",
    "epochs_without_improvement = 0\n",
    "best_model_path = 'best_model.pth'\n",
    "\n",
    "# Training loop\n",
    "num_epochs = 200\n",
    "for epoch in range(num_epochs):\n",
    "    model.train()\n",
    "    running_loss = 0.0\n",
    "    for images, tabular_data, targets in tqdm(train_dataloader, desc=f'Epoch {epoch + 1} Training'):\n",
    "        images = images.to(device)\n",
    "        tabular_data = tabular_data.to(device)\n",
    "        targets = targets.to(device)\n",
    "        \n",
    "        optimizer.zero_grad()\n",
    "        \n",
    "        # Forward pass\n",
    "        outputs = model(images, tabular_data)\n",
    "        \n",
    "        # Compute loss\n",
    "        loss = criterion(outputs, targets)\n",
    "        \n",
    "        # Backward pass and optimize\n",
    "        loss.backward()\n",
    "        optimizer.step()\n",
    "        \n",
    "        # Accumulate loss\n",
    "        running_loss += loss.item()\n",
    "    \n",
    "    # Print training statistics\n",
    "    train_loss = running_loss / len(train_dataloader)\n",
    "    print(f'Epoch [{epoch+1}/{num_epochs}], Training Loss: {train_loss:.4f}')\n",
    "    \n",
    "    # Validation loop\n",
    "    model.eval()\n",
    "    val_running_loss = 0.0\n",
    "    with torch.no_grad():\n",
    "        for images, tabular_data, targets in tqdm(test_dataloader, desc=f'Epoch {epoch + 1} Validation'):\n",
    "            images = images.to(device)\n",
    "            tabular_data = tabular_data.to(device)\n",
    "            targets = targets.to(device)\n",
    "            \n",
    "            outputs = model(images, tabular_data)\n",
    "            loss = criterion(outputs, targets)\n",
    "            val_running_loss += loss.item()\n",
    "    \n",
    "    # Print validation statistics\n",
    "    val_loss = val_running_loss / len(test_dataloader)\n",
    "    print(f'Epoch [{epoch+1}/{num_epochs}], Validation Loss: {val_loss:.4f}')\n",
    "    \n",
    "    # Check for early stopping\n",
    "    if val_loss < best_val_loss:\n",
    "        best_val_loss = val_loss\n",
    "        epochs_without_improvement = 0\n",
    "        torch.save(model.state_dict(), best_model_path)\n",
    "        print(f'Best model saved with validation loss: {best_val_loss:.4f}')\n",
    "    else:\n",
    "        epochs_without_improvement += 1\n",
    "        if epochs_without_improvement >= patience:\n",
    "            print(f'Early stopping triggered at epoch {epoch+1}')\n",
    "            break\n",
    "\n",
    "# Load the best model\n",
    "model.load_state_dict(torch.load(best_model_path))\n",
    "model.eval()\n",
    "print(f\"Best MSE:{best_val_loss:.4f}\")"
   ]
  },
  {
   "cell_type": "code",
   "execution_count": null,
   "metadata": {
    "trusted": true
   },
   "outputs": [],
   "source": []
  }
 ],
 "metadata": {
  "kaggle": {
   "accelerator": "gpu",
   "dataSources": [
    {
     "datasetId": 1814563,
     "sourceId": 3000808,
     "sourceType": "datasetVersion"
    }
   ],
   "dockerImageVersionId": 30840,
   "isGpuEnabled": true,
   "isInternetEnabled": true,
   "language": "python",
   "sourceType": "notebook"
  },
  "kernelspec": {
   "display_name": "Python 3",
   "language": "python",
   "name": "python3"
  },
  "language_info": {
   "codemirror_mode": {
    "name": "ipython",
    "version": 3
   },
   "file_extension": ".py",
   "mimetype": "text/x-python",
   "name": "python",
   "nbconvert_exporter": "python",
   "pygments_lexer": "ipython3",
   "version": "3.10.12"
  }
 },
 "nbformat": 4,
 "nbformat_minor": 4
}
